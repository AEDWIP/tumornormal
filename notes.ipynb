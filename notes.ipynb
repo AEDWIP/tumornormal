{
 "cells": [
  {
   "cell_type": "markdown",
   "metadata": {},
   "source": [
    "# Notes and Todo"
   ]
  },
  {
   "cell_type": "markdown",
   "metadata": {},
   "source": [
    "- Rob's repo [https://github.com/rcurrie/tumornormal](https://github.com/rcurrie/tumornormal)\n",
    "- import functions for other notebooks [https://github.com/ipython/ipynb](https://github.com/ipython/ipynb)\n",
    "- formating eq. in html [https://www.mathjax.org/](https://www.mathjax.org/)\n",
    "- machine learning with tensorflow [https://github.com/ageron/handson-ml](https://github.com/ageron/handson-ml)\n",
    "- multi task auto encoding [https://docs.google.com/presentation/d/1Tns5HTRqbfXHQWBoKziUuhtnbU8VYKSQWoGOloHqZdw/edit#slide=id.g327a3ce04b_0_10](https://docs.google.com/presentation/d/1Tns5HTRqbfXHQWBoKziUuhtnbU8VYKSQWoGOloHqZdw/edit#slide=id.g327a3ce04b_0_10)\n",
    "- [clean code](https://www.slideshare.net/vladimirkazantsev/clean-code-in-jupyter-notebook)\n",
    "- [jupyter notebook unit testing](https://pypi.python.org/pypi/pytest-ipynb)\n",
    "-[dandelion.manetensor board tutorial](https://github.com/dandelionmane/tf-dev-summit-tensorboard-tutorial"
   ]
  },
  {
   "cell_type": "markdown",
   "metadata": {},
   "source": [
    "### TensorBoard\n",
    "* [README.md](https://github.com/tensorflow/tensorboard/blob/master/README.md)\n",
    "* [gettign started](https://www.tensorflow.org/get_started/summaries_and_tensorboard)"
   ]
  },
  {
   "cell_type": "markdown",
   "metadata": {},
   "source": [
    "1. try logistic regression\n",
    "   * get rid of wImpl can we replace with variable and tf.assign\n",
    "   * I think there is a way to get results with out having to call eval a second time. should run faster\n",
    "    * confusion matrix\n",
    "    * use error rate for stat\n",
    "    * high basis? or high variance?\n",
    "\n",
    "2. would regularization help?\n",
    "3. try fully connected\n",
    "    1. does adding layers help?\n",
    "4. spell check\n",
    "5. read tensorflow style convestoin"
   ]
  },
  {
   "cell_type": "markdown",
   "metadata": {},
   "source": [
    "1. first\n",
    "2. second\n",
    "    * tab\n",
    "    * tab\n",
    "3. three\n",
    "    2. tab b"
   ]
  },
  {
   "cell_type": "markdown",
   "metadata": {},
   "source": [
    "## MathJax Notes\n",
    "display TeX Notice the eq. stands a lone $$ \\widehat { y } = \\sigma (z) $$\n",
    "\n",
    "inilne TeX $ \\widehat { y } = \\sigma ( z ) $ end of line \n",
    "\n",
    "controlling spacing: \n",
    "Daum Equation uses \\quad this creates to much space.\n",
    "see [https://www.andy-roberts.net/res/writing/latex/hspacing.pdf](https://www.andy-roberts.net/res/writing/latex/hspacing.pdf)\n",
    "\n",
    "### Command Description Size\n",
    "* \\, small space 3/18 of a quad\n",
    "* \\: medium space 4/18 of a quad\n",
    "* \\; large space 5/18 of a quad\n",
    "* \\\\! negative space −3/18 of a quad"
   ]
  },
  {
   "cell_type": "markdown",
   "metadata": {},
   "source": [
    "## Using comprenhesion to print values, \n",
    "* advantage: shows all digits\n",
    "* disadvtage: hides true shape\n",
    "```\n",
    "rows,cols = gradWResult.shape\n",
    "print([gradWResult[i][j] for i in range(rows) for j in range(cols)])\n",
    "```\n",
    "[1.2829966017218182, 1.7089497704501153]\n",
    "\n",
    "cleaner way migt be to use [https://www.tutorialspoint.com/numpy/numpy_iterating_over_array.htm](https://www.tutorialspoint.com/numpy/numpy_iterating_over_array.htm)\n"
   ]
  },
  {
   "cell_type": "markdown",
   "metadata": {},
   "source": [
    "# Test Results"
   ]
  },
  {
   "cell_type": "code",
   "execution_count": 45,
   "metadata": {},
   "outputs": [
    {
     "data": {
      "text/html": [
       "<div>\n",
       "<style scoped>\n",
       "    .dataframe tbody tr th:only-of-type {\n",
       "        vertical-align: middle;\n",
       "    }\n",
       "\n",
       "    .dataframe tbody tr th {\n",
       "        vertical-align: top;\n",
       "    }\n",
       "\n",
       "    .dataframe thead th {\n",
       "        text-align: right;\n",
       "    }\n",
       "</style>\n",
       "<table border=\"1\" class=\"dataframe\">\n",
       "  <thead>\n",
       "    <tr style=\"text-align: right;\">\n",
       "      <th></th>\n",
       "      <th>date</th>\n",
       "      <th>Model</th>\n",
       "      <th>n</th>\n",
       "      <th>m</th>\n",
       "      <th>epochs</th>\n",
       "      <th>error rate</th>\n",
       "    </tr>\n",
       "  </thead>\n",
       "  <tbody>\n",
       "    <tr>\n",
       "      <th>0</th>\n",
       "      <td>2018-01-30</td>\n",
       "      <td>simple LR</td>\n",
       "      <td>2</td>\n",
       "      <td>7.0</td>\n",
       "      <td>5000</td>\n",
       "      <td>0.285714</td>\n",
       "    </tr>\n",
       "    <tr>\n",
       "      <th>1</th>\n",
       "      <td>NaT</td>\n",
       "      <td>NaN</td>\n",
       "      <td>60498100</td>\n",
       "      <td>1000.0</td>\n",
       "      <td>100</td>\n",
       "      <td>0.028000</td>\n",
       "    </tr>\n",
       "    <tr>\n",
       "      <th>2</th>\n",
       "      <td>2018-02-03</td>\n",
       "      <td>NaN</td>\n",
       "      <td>60498100</td>\n",
       "      <td>NaN</td>\n",
       "      <td>100</td>\n",
       "      <td>0.040719</td>\n",
       "    </tr>\n",
       "  </tbody>\n",
       "</table>\n",
       "</div>"
      ],
      "text/plain": [
       "        date      Model         n       m  epochs  error rate\n",
       "0 2018-01-30  simple LR         2     7.0    5000    0.285714\n",
       "1        NaT        NaN  60498100  1000.0     100    0.028000\n",
       "2 2018-02-03        NaN  60498100     NaN     100    0.040719"
      ]
     },
     "execution_count": 45,
     "metadata": {},
     "output_type": "execute_result"
    }
   ],
   "source": [
    "import pandas as pd\n",
    "from tabulate import tabulate\n",
    "\n",
    "file_name = \"modelResults.xlsx\"\n",
    "df = pd.read_excel(file_name) \n",
    "\n",
    "df[ ['date', 'Model', 'n', 'm', 'epochs', 'error rate'] ]"
   ]
  },
  {
   "cell_type": "code",
   "execution_count": 35,
   "metadata": {},
   "outputs": [
    {
     "data": {
      "text/plain": [
       "OrderedDict([('Sheet1',\n",
       "                      date      Model                              file     data set  \\\n",
       "              0 2018-01-30  simple LR  simpleLogisticRegression.tfModel  debug train   \n",
       "              1        NaT        NaN                               NaN  small train   \n",
       "              2 2018-02-03        NaN  simpleLogisticRegression.tfModel  large train   \n",
       "              \n",
       "                        n       m  epochs      cost  error rate  run time  \\\n",
       "              0         2     7.0    5000  0.464612    0.285714  00:16:00   \n",
       "              1  60498100  1000.0     100  0.079966    0.028000  00:03:20   \n",
       "              2  60498100     NaN     100  0.156999    0.040719  18:30:36   \n",
       "              \n",
       "                                                              note  \n",
       "              0                                                NaN  \n",
       "              1                                                NaN  \n",
       "              2  mini batch sizes are small, run time is large....  )])"
      ]
     },
     "execution_count": 35,
     "metadata": {},
     "output_type": "execute_result"
    }
   ],
   "source": [
    "df"
   ]
  },
  {
   "cell_type": "code",
   "execution_count": null,
   "metadata": {},
   "outputs": [],
   "source": []
  }
 ],
 "metadata": {
  "kernelspec": {
   "display_name": "Python 3",
   "language": "python",
   "name": "python3"
  },
  "language_info": {
   "codemirror_mode": {
    "name": "ipython",
    "version": 3
   },
   "file_extension": ".py",
   "mimetype": "text/x-python",
   "name": "python",
   "nbconvert_exporter": "python",
   "pygments_lexer": "ipython3",
   "version": "3.6.1"
  }
 },
 "nbformat": 4,
 "nbformat_minor": 2
}
