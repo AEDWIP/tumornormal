{
 "cells": [
  {
   "cell_type": "markdown",
   "metadata": {},
   "source": [
    "# Feature Importance\n",
    "\n",
    "Determine which features contribute the most to the output and see how well this coorelates with the COSMIC cancer gene census:\n",
    "\n",
    "http://cancer.sanger.ac.uk/census/\n",
    "\n",
    "Resources\n",
    "\n",
    "https://en.wikipedia.org/wiki/Feature_selection#Wrapper_method\n",
    "\n",
    "https://stats.stackexchange.com/questions/250381/feature-selection-using-deep-learning\n",
    "\n",
    "http://blog.datadive.net/selecting-good-features-part-i-univariate-selection/\n"
   ]
  },
  {
   "cell_type": "code",
   "execution_count": 68,
   "metadata": {
    "collapsed": true
   },
   "outputs": [],
   "source": [
    "import numpy as np\n",
    "import pandas as pd"
   ]
  },
  {
   "cell_type": "code",
   "execution_count": 67,
   "metadata": {},
   "outputs": [
    {
     "name": "stdout",
     "output_type": "stream",
     "text": [
      "Loading model...\n",
      "Loading weights...\n",
      "Compliling model...\n"
     ]
    }
   ],
   "source": [
    "# Load the model from disk as trained on the GPU box\n",
    "from keras.models import model_from_json\n",
    "\n",
    "print(\"Loading model...\")\n",
    "with open(\"models/model.json\", \"r\") as f:\n",
    "    model = model_from_json(f.read())\n",
    "print(\"Loading weights...\")\n",
    "model.load_weights(\"models/weights.h5\")\n",
    "print(\"Compliling model...\")\n",
    "model.compile(loss='binary_crossentropy', optimizer='adam', metrics=['accuracy'])"
   ]
  },
  {
   "cell_type": "code",
   "execution_count": 75,
   "metadata": {},
   "outputs": [],
   "source": [
    "\"\"\"\n",
    "First do the simplest thing - sum the weights at the first layer by gene, sort,\n",
    "and see if those with the highest weights intersect with the COSMIC list\n",
    "\n",
    "Maybe it should be the sum of the absolute value? Negative or positive weight implies affect...\n",
    "\"\"\"\n",
    "weights = model.layers[2].get_weights()\n",
    "ranks = np.sum(weights[0], axis=1)"
   ]
  },
  {
   "cell_type": "code",
   "execution_count": 70,
   "metadata": {},
   "outputs": [],
   "source": [
    "# Load the features into a dataframe\n",
    "import h5py\n",
    "with h5py.File(\"data/tumor_normal.h5\", \"r\") as f:\n",
    "    genes = f[\"genes\"][:]"
   ]
  },
  {
   "cell_type": "code",
   "execution_count": 77,
   "metadata": {},
   "outputs": [],
   "source": [
    "rankings = pd.DataFrame(ranks, index=genes)"
   ]
  },
  {
   "cell_type": "code",
   "execution_count": 96,
   "metadata": {},
   "outputs": [],
   "source": [
    "r = rankings.sort_values(by=0).index.astype('U').values"
   ]
  },
  {
   "cell_type": "code",
   "execution_count": 95,
   "metadata": {},
   "outputs": [],
   "source": [
    "cosmic = pd.read_table(\"cancer_genes.tsv\")[\"Gene Symbol\"].values"
   ]
  },
  {
   "cell_type": "code",
   "execution_count": 99,
   "metadata": {},
   "outputs": [
    {
     "data": {
      "text/plain": [
       "(589,)"
      ]
     },
     "execution_count": 99,
     "metadata": {},
     "output_type": "execute_result"
    }
   ],
   "source": [
    "np.intersect1d(r, cosmic).shape"
   ]
  }
 ],
 "metadata": {
  "kernelspec": {
   "display_name": "Python 3",
   "language": "python",
   "name": "python3"
  },
  "language_info": {
   "codemirror_mode": {
    "name": "ipython",
    "version": 3
   },
   "file_extension": ".py",
   "mimetype": "text/x-python",
   "name": "python",
   "nbconvert_exporter": "python",
   "pygments_lexer": "ipython3",
   "version": "3.5.2"
  }
 },
 "nbformat": 4,
 "nbformat_minor": 2
}
