{
 "cells": [
  {
   "cell_type": "markdown",
   "metadata": {},
   "source": [
    "# Feature Importance\n",
    "\n",
    "Determine which features contribute the most to the output and see how well this coorelates with the COSMIC cancer gene census:\n",
    "\n",
    "http://cancer.sanger.ac.uk/census/\n",
    "\n",
    "Resources\n",
    "\n",
    "https://en.wikipedia.org/wiki/Feature_selection#Wrapper_method\n",
    "\n",
    "https://stats.stackexchange.com/questions/250381/feature-selection-using-deep-learning\n",
    "\n",
    "http://blog.datadive.net/selecting-good-features-part-i-univariate-selection/\n"
   ]
  },
  {
   "cell_type": "code",
   "execution_count": 68,
   "metadata": {
    "collapsed": true
   },
   "outputs": [],
   "source": [
    "import numpy as np\n",
    "import pandas as pd"
   ]
  },
  {
   "cell_type": "code",
   "execution_count": 67,
   "metadata": {},
   "outputs": [
    {
     "name": "stdout",
     "output_type": "stream",
     "text": [
      "Loading model...\n",
      "Loading weights...\n",
      "Compliling model...\n"
     ]
    }
   ],
   "source": [
    "# Load the model from disk as trained on the GPU box\n",
    "from keras.models import model_from_json\n",
    "\n",
    "print(\"Loading model...\")\n",
    "with open(\"models/model.json\", \"r\") as f:\n",
    "    model = model_from_json(f.read())\n",
    "print(\"Loading weights...\")\n",
    "model.load_weights(\"models/weights.h5\")\n",
    "print(\"Compliling model...\")\n",
    "model.compile(loss='binary_crossentropy', optimizer='adam', metrics=['accuracy'])"
   ]
  },
  {
   "cell_type": "code",
   "execution_count": 109,
   "metadata": {},
   "outputs": [
    {
     "data": {
      "text/html": [
       "<div>\n",
       "<table border=\"1\" class=\"dataframe\">\n",
       "  <thead>\n",
       "    <tr style=\"text-align: right;\">\n",
       "      <th></th>\n",
       "      <th>0</th>\n",
       "    </tr>\n",
       "  </thead>\n",
       "  <tbody>\n",
       "    <tr>\n",
       "      <th>RP11-78A18</th>\n",
       "      <td>23.470675</td>\n",
       "    </tr>\n",
       "    <tr>\n",
       "      <th>CTC-305H11</th>\n",
       "      <td>22.292587</td>\n",
       "    </tr>\n",
       "    <tr>\n",
       "      <th>LINC00363</th>\n",
       "      <td>19.987692</td>\n",
       "    </tr>\n",
       "    <tr>\n",
       "      <th>CTD-3096P4</th>\n",
       "      <td>19.076891</td>\n",
       "    </tr>\n",
       "    <tr>\n",
       "      <th>RP11-297L1</th>\n",
       "      <td>18.707317</td>\n",
       "    </tr>\n",
       "  </tbody>\n",
       "</table>\n",
       "</div>"
      ],
      "text/plain": [
       "                    0\n",
       "RP11-78A18  23.470675\n",
       "CTC-305H11  22.292587\n",
       "LINC00363   19.987692\n",
       "CTD-3096P4  19.076891\n",
       "RP11-297L1  18.707317"
      ]
     },
     "execution_count": 109,
     "metadata": {},
     "output_type": "execute_result"
    }
   ],
   "source": [
    "\"\"\"\n",
    "First do the simplest thing - sum the weights at the first layer by gene, sort,\n",
    "and see if those with the highest weights intersect with the COSMIC list\n",
    "\n",
    "Maybe it should be the sum of the absolute value? Negative or positive weight implies affect...\n",
    "\"\"\"\n",
    "weights = model.layers[2].get_weights()\n",
    "ranks = np.absolute(np.sum(weights[0], axis=1))\n",
    "rankings = pd.DataFrame(ranks, index=genes.astype('U')).sort_values(by=0, ascending=False)\n",
    "rankings.head()"
   ]
  },
  {
   "cell_type": "code",
   "execution_count": 110,
   "metadata": {},
   "outputs": [],
   "source": [
    "# Load the features into a dataframe\n",
    "import h5py\n",
    "with h5py.File(\"data/tumor_normal.h5\", \"r\") as f:\n",
    "    genes = f[\"genes\"][:]"
   ]
  },
  {
   "cell_type": "code",
   "execution_count": 112,
   "metadata": {},
   "outputs": [
    {
     "data": {
      "text/plain": [
       "array(['RP11-78A18', 'CTC-305H11', 'LINC00363', ..., 'MIR4745', 'GADL1',\n",
       "       'ARL14EPL'], dtype=object)"
      ]
     },
     "execution_count": 112,
     "metadata": {},
     "output_type": "execute_result"
    }
   ],
   "source": [
    "rankings.index.values"
   ]
  },
  {
   "cell_type": "code",
   "execution_count": 113,
   "metadata": {},
   "outputs": [],
   "source": [
    "cosmic = pd.read_table(\"cancer_genes.tsv\")[\"Gene Symbol\"].values"
   ]
  },
  {
   "cell_type": "code",
   "execution_count": 116,
   "metadata": {},
   "outputs": [
    {
     "data": {
      "text/plain": [
       "(78,)"
      ]
     },
     "execution_count": 116,
     "metadata": {},
     "output_type": "execute_result"
    }
   ],
   "source": [
    "np.intersect1d(rankings.index.values[0:10000], cosmic).shape"
   ]
  }
 ],
 "metadata": {
  "kernelspec": {
   "display_name": "Python 3",
   "language": "python",
   "name": "python3"
  },
  "language_info": {
   "codemirror_mode": {
    "name": "ipython",
    "version": 3
   },
   "file_extension": ".py",
   "mimetype": "text/x-python",
   "name": "python",
   "nbconvert_exporter": "python",
   "pygments_lexer": "ipython3",
   "version": "3.5.2"
  }
 },
 "nbformat": 4,
 "nbformat_minor": 2
}
