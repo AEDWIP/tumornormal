{
 "cells": [
  {
   "cell_type": "markdown",
   "metadata": {},
   "source": [
    "# Deriving cancer gene's from expression data\n",
    "\n",
    "See if it's possible to train a deep neural network tumor/normal binary classifier using just the Toil TCGA, TARGET and GTEX expression datasets:\n",
    "\n",
    "https://xenabrowser.net/datapages/?host=https://toil.xenahubs.net)\n",
    "\n",
    "If we can, then see whether any of the early layers re-capitulates the COSMIC cancer gene census:\n",
    "\n",
    "http://cancer.sanger.ac.uk/census/"
   ]
  },
  {
   "cell_type": "code",
   "execution_count": 7,
   "metadata": {
    "collapsed": true
   },
   "outputs": [],
   "source": [
    "import os\n",
    "import numpy as np\n",
    "import pandas as pd\n",
    "\n",
    "# fix random seed for reproducibility\n",
    "np.random.seed(42)"
   ]
  },
  {
   "cell_type": "code",
   "execution_count": 8,
   "metadata": {},
   "outputs": [
    {
     "name": "stdout",
     "output_type": "stream",
     "text": [
      "Datasets: ['X_test', 'X_train', 'class_labels', 'classes_test', 'classes_train', 'features', 'genes', 'labels', 'y_test', 'y_train']\n",
      "Training on partial dataset\n",
      "X_train.shape: (5000, 60498) epochs: 1 batch_size: 256\n"
     ]
    }
   ],
   "source": [
    "from keras.utils.io_utils import HDF5Matrix\n",
    "import h5py\n",
    "\n",
    "input_file = \"data/tumor_normal.h5\"\n",
    "\n",
    "with h5py.File(input_file, \"r\") as f:\n",
    "    print(\"Datasets:\", list(f.keys()))\n",
    "\n",
    "# different size parameters if debugging or using full dataset\n",
    "if os.getenv(\"DEBUG\", \"True\") == \"True\":\n",
    "    X_train = HDF5Matrix(input_file, \"X_train\", start=0, end=5000)\n",
    "    X_test = HDF5Matrix(input_file, \"X_test\", start=0, end=1000)\n",
    "    y_train = HDF5Matrix(input_file, \"y_train\", start=0, end=5000)\n",
    "    y_test = HDF5Matrix(input_file, \"y_test\", start=0, end=1000)\n",
    "    print(\"Training on partial dataset\")\n",
    "    epochs=1\n",
    "    batch_size=128\n",
    "else:\n",
    "    X_train = HDF5Matrix(input_file, \"X_train\")\n",
    "    X_test = HDF5Matrix(input_file, \"X_test\")\n",
    "    y_train = HDF5Matrix(input_file, \"y_train\")\n",
    "    y_test = HDF5Matrix(input_file, \"y_test\")\n",
    "    print(\"Training on full dataset\")\n",
    "    epochs=16\n",
    "    batch_size=128\n",
    "    \n",
    "print(\"X_train.shape:\", X_train.shape, \"epochs:\", epochs, \"batch_size:\", batch_size)"
   ]
  },
  {
   "cell_type": "code",
   "execution_count": 9,
   "metadata": {},
   "outputs": [
    {
     "name": "stdout",
     "output_type": "stream",
     "text": [
      "CPU times: user 1h 31min 9s, sys: 1h 27min 35s, total: 2h 58min 44s\n",
      "Wall time: 10min 30s\n"
     ]
    }
   ],
   "source": [
    "# Try PCA to reduce dimenions before network\n",
    "from sklearn.decomposition import PCA\n",
    "print(\"Computing PCA\")\n",
    "X_train_pca = PCA(n_components=5000).fit_transform(X_train)"
   ]
  },
  {
   "cell_type": "code",
   "execution_count": 10,
   "metadata": {},
   "outputs": [
    {
     "name": "stdout",
     "output_type": "stream",
     "text": [
      "Epoch 1/1\n",
      "5000/5000 [==============================] - 5s - loss: 6.9038 - acc: 0.5500     \n"
     ]
    },
    {
     "data": {
      "text/plain": [
       "<keras.callbacks.History at 0x7f8e2c153278>"
      ]
     },
     "execution_count": 10,
     "metadata": {},
     "output_type": "execute_result"
    }
   ],
   "source": [
    "\"\"\"\n",
    "Trivial network to just verify all the pieces are working\n",
    "\"\"\"\n",
    "\n",
    "from keras.layers import Dense\n",
    "from keras.models import Model, Sequential\n",
    "\n",
    "classify = [\n",
    "    Dense(1000, input_dim=X_train_pca.shape[1], activation='relu'),\n",
    "    Dense(500, activation='relu'),\n",
    "    Dense(1, activation='sigmoid')\n",
    "]\n",
    "\n",
    "model = Sequential(classify)\n",
    "model.compile(loss='binary_crossentropy', optimizer='adam', metrics=['accuracy'])\n",
    "model.fit(X_train_pca, y_train, epochs=epochs, batch_size=batch_size, shuffle=\"batch\")\n",
    "# model.evaluate(X_test, y_test)"
   ]
  },
  {
   "cell_type": "markdown",
   "metadata": {},
   "source": [
    "#### Results\n",
    "When trained on the full dataset, with PCA to 5000, and fed into:\n",
    "\n",
    "    Layer (type)                 Output Shape              Param #   \n",
    "    =================================================================\n",
    "    dense_4 (Dense)              (None, 1000)              5001000   \n",
    "    _________________________________________________________________\n",
    "    dense_5 (Dense)              (None, 500)               500500    \n",
    "    _________________________________________________________________\n",
    "    dense_6 (Dense)              (None, 1)                 501       \n",
    "    =================================================================\n",
    "    Total params: 5,502,001.0\n",
    "    Trainable params: 5,502,001\n",
    "    Non-trainable params: 0.0\n",
    "    _________________________________________________________________\n",
    "\n",
    "Achieves:\n",
    "\n",
    "    Epoch 16/16\n",
    "    15300/15300 [==============================] - 23s - loss: 0.6338 - acc: 0.9603"
   ]
  }
 ],
 "metadata": {
  "kernelspec": {
   "display_name": "Python 3",
   "language": "python",
   "name": "python3"
  },
  "language_info": {
   "codemirror_mode": {
    "name": "ipython",
    "version": 3
   },
   "file_extension": ".py",
   "mimetype": "text/x-python",
   "name": "python",
   "nbconvert_exporter": "python",
   "pygments_lexer": "ipython3",
   "version": "3.5.2"
  }
 },
 "nbformat": 4,
 "nbformat_minor": 2
}
