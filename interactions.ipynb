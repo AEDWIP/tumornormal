{
 "cells": [
  {
   "cell_type": "markdown",
   "metadata": {},
   "source": [
    "# Gene Interaction Pathways\n",
    "\n",
    "Extract gene-gene interactions from compiled [superpathway file](https://www.synapse.org/#!Synapse:syn2244296\n",
    ") used by Paradigm.\n",
    "\n",
    "#### Data Details\n",
    "Pathways are obtained in BioPax Level 3 format, and included the NCIPID and BioCarta databases from http://pid.nci.nih.gov and the Reactome database from http://reactome.org. Gene identifiers are unified by UniProt ID then converted to Human Genome Nomenclature Committee’s HUGO symbol using mappings provided by HGNC (http://www.genenames.org/). Interactions from all of these sources are then combined into a merged Superimposed Pathway (SuperPathway).\n",
    "\n",
    "#### \n",
    "\n",
    "See super_pathways.txt for details on the format and https://github.com/ucscCancer/pathway_tools for various scripts used to generate, access and validate this database. This pathway is released under a Creative Commons Attribution-NonCommercial 3.0 United States license. For more details, please see in the included LICENSE file or visit http://creativecommons.org/licenses/by-nc/3.0/us/"
   ]
  },
  {
   "cell_type": "code",
   "execution_count": 1,
   "metadata": {},
   "outputs": [],
   "source": [
    "import pandas as pd"
   ]
  },
  {
   "cell_type": "code",
   "execution_count": 16,
   "metadata": {},
   "outputs": [
    {
     "data": {
      "text/html": [
       "<div>\n",
       "<style scoped>\n",
       "    .dataframe tbody tr th:only-of-type {\n",
       "        vertical-align: middle;\n",
       "    }\n",
       "\n",
       "    .dataframe tbody tr th {\n",
       "        vertical-align: top;\n",
       "    }\n",
       "\n",
       "    .dataframe thead th {\n",
       "        text-align: right;\n",
       "    }\n",
       "</style>\n",
       "<table border=\"1\" class=\"dataframe\">\n",
       "  <thead>\n",
       "    <tr style=\"text-align: right;\">\n",
       "      <th></th>\n",
       "      <th>parent</th>\n",
       "      <th>child</th>\n",
       "      <th>interaction</th>\n",
       "    </tr>\n",
       "  </thead>\n",
       "  <tbody>\n",
       "    <tr>\n",
       "      <th>0</th>\n",
       "      <td>protein</td>\n",
       "      <td>1/2-SBSRNA4</td>\n",
       "      <td>NaN</td>\n",
       "    </tr>\n",
       "    <tr>\n",
       "      <th>1</th>\n",
       "      <td>protein</td>\n",
       "      <td>AADAT</td>\n",
       "      <td>NaN</td>\n",
       "    </tr>\n",
       "    <tr>\n",
       "      <th>2</th>\n",
       "      <td>protein</td>\n",
       "      <td>AAGAB</td>\n",
       "      <td>NaN</td>\n",
       "    </tr>\n",
       "    <tr>\n",
       "      <th>3</th>\n",
       "      <td>protein</td>\n",
       "      <td>ACTR6</td>\n",
       "      <td>NaN</td>\n",
       "    </tr>\n",
       "    <tr>\n",
       "      <th>4</th>\n",
       "      <td>protein</td>\n",
       "      <td>ADAT2</td>\n",
       "      <td>NaN</td>\n",
       "    </tr>\n",
       "  </tbody>\n",
       "</table>\n",
       "</div>"
      ],
      "text/plain": [
       "    parent        child interaction\n",
       "0  protein  1/2-SBSRNA4         NaN\n",
       "1  protein        AADAT         NaN\n",
       "2  protein        AAGAB         NaN\n",
       "3  protein        ACTR6         NaN\n",
       "4  protein        ADAT2         NaN"
      ]
     },
     "execution_count": 16,
     "metadata": {},
     "output_type": "execute_result"
    }
   ],
   "source": [
    "interactions = pd.read_csv(\"super_pathways.tab\", sep=\"\\t\", names=[\"parent\", \"child\", \"interaction\"])\n",
    "interactions.head()"
   ]
  },
  {
   "cell_type": "code",
   "execution_count": 23,
   "metadata": {},
   "outputs": [
    {
     "data": {
      "text/html": [
       "<div>\n",
       "<style scoped>\n",
       "    .dataframe tbody tr th:only-of-type {\n",
       "        vertical-align: middle;\n",
       "    }\n",
       "\n",
       "    .dataframe tbody tr th {\n",
       "        vertical-align: top;\n",
       "    }\n",
       "\n",
       "    .dataframe thead th {\n",
       "        text-align: right;\n",
       "    }\n",
       "</style>\n",
       "<table border=\"1\" class=\"dataframe\">\n",
       "  <thead>\n",
       "    <tr style=\"text-align: right;\">\n",
       "      <th></th>\n",
       "      <th>parent</th>\n",
       "      <th>child</th>\n",
       "      <th>interaction</th>\n",
       "    </tr>\n",
       "  </thead>\n",
       "  <tbody>\n",
       "    <tr>\n",
       "      <th>27082</th>\n",
       "      <td>ATM</td>\n",
       "      <td>TTC5</td>\n",
       "      <td>-a|</td>\n",
       "    </tr>\n",
       "    <tr>\n",
       "      <th>27083</th>\n",
       "      <td>HIPK2</td>\n",
       "      <td>p53_(tetramer)_(complex)</td>\n",
       "      <td>-a|</td>\n",
       "    </tr>\n",
       "    <tr>\n",
       "      <th>27084</th>\n",
       "      <td>MAP3K1</td>\n",
       "      <td>MAP2K6</td>\n",
       "      <td>-a|</td>\n",
       "    </tr>\n",
       "    <tr>\n",
       "      <th>27085</th>\n",
       "      <td>vacuolar_proton-transporting_V-type_ATPase_com...</td>\n",
       "      <td>WNT3A/FZD8/LRP6/PRR_(complex)</td>\n",
       "      <td>-a&gt;</td>\n",
       "    </tr>\n",
       "    <tr>\n",
       "      <th>27086</th>\n",
       "      <td>YES1</td>\n",
       "      <td>CDC42/GTP_(complex)</td>\n",
       "      <td>-a|</td>\n",
       "    </tr>\n",
       "  </tbody>\n",
       "</table>\n",
       "</div>"
      ],
      "text/plain": [
       "                                                  parent  \\\n",
       "27082                                                ATM   \n",
       "27083                                              HIPK2   \n",
       "27084                                             MAP3K1   \n",
       "27085  vacuolar_proton-transporting_V-type_ATPase_com...   \n",
       "27086                                               YES1   \n",
       "\n",
       "                               child interaction  \n",
       "27082                           TTC5         -a|  \n",
       "27083       p53_(tetramer)_(complex)         -a|  \n",
       "27084                         MAP2K6         -a|  \n",
       "27085  WNT3A/FZD8/LRP6/PRR_(complex)         -a>  \n",
       "27086            CDC42/GTP_(complex)         -a|  "
      ]
     },
     "execution_count": 23,
     "metadata": {},
     "output_type": "execute_result"
    }
   ],
   "source": [
    "# Query interactions where the parent promotes or inhibits the child only\n",
    "interactions.query(\"interaction=='-a>' | interaction=='-a|'\").head()"
   ]
  }
 ],
 "metadata": {
  "kernelspec": {
   "display_name": "Python 3",
   "language": "python",
   "name": "python3"
  },
  "language_info": {
   "codemirror_mode": {
    "name": "ipython",
    "version": 3
   },
   "file_extension": ".py",
   "mimetype": "text/x-python",
   "name": "python",
   "nbconvert_exporter": "python",
   "pygments_lexer": "ipython3",
   "version": "3.6.3"
  }
 },
 "nbformat": 4,
 "nbformat_minor": 2
}
