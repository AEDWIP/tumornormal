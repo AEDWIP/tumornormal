{
 "cells": [
  {
   "cell_type": "markdown",
   "metadata": {},
   "source": [
    "# Feature Importance\n",
    "\n",
    "Determine which features contribute the most to the output and see how well this coorelates with the COSMIC cancer gene census:\n",
    "\n",
    "http://cancer.sanger.ac.uk/census/\n",
    "\n",
    "Resources\n",
    "\n",
    "https://en.wikipedia.org/wiki/Feature_selection#Wrapper_method\n",
    "\n",
    "https://stats.stackexchange.com/questions/250381/feature-selection-using-deep-learning\n",
    "\n",
    "http://blog.datadive.net/selecting-good-features-part-i-univariate-selection/\n",
    "\n",
    "https://arxiv.org/abs/1704.02685\n"
   ]
  },
  {
   "cell_type": "code",
   "execution_count": 7,
   "metadata": {
    "collapsed": true
   },
   "outputs": [],
   "source": [
    "import numpy as np\n",
    "import pandas as pd"
   ]
  },
  {
   "cell_type": "code",
   "execution_count": 1,
   "metadata": {},
   "outputs": [
    {
     "name": "stderr",
     "output_type": "stream",
     "text": [
      "Using TensorFlow backend.\n"
     ]
    },
    {
     "name": "stdout",
     "output_type": "stream",
     "text": [
      "Loading model...\n",
      "Loading weights...\n",
      "Compliling model...\n"
     ]
    }
   ],
   "source": [
    "# Load the model from disk as trained on the GPU box\n",
    "from keras.models import model_from_json\n",
    "\n",
    "print(\"Loading model...\")\n",
    "with open(\"models/model.json\", \"r\") as f:\n",
    "    model = model_from_json(f.read())\n",
    "print(\"Loading weights...\")\n",
    "model.load_weights(\"models/weights.h5\")\n",
    "print(\"Compliling model...\")\n",
    "model.compile(loss='binary_crossentropy', optimizer='adam', metrics=['accuracy'])"
   ]
  },
  {
   "cell_type": "code",
   "execution_count": 4,
   "metadata": {},
   "outputs": [
    {
     "name": "stdout",
     "output_type": "stream",
     "text": [
      "3826/3826 [==============================] - 16s    \n",
      "['loss', 'acc'] [0.5051567359446264, 0.92263460533193942]\n"
     ]
    }
   ],
   "source": [
    "# Check the accuracy using the test set\n",
    "from keras.utils.io_utils import HDF5Matrix\n",
    "import h5py\n",
    "\n",
    "input_file = \"data/tumor_normal.h5\"\n",
    "X_test = HDF5Matrix(input_file, \"X_test\")\n",
    "y_test = HDF5Matrix(input_file, \"y_test\")\n",
    "\n",
    "print(model.metrics_names, model.evaluate(X_test, y_test))"
   ]
  },
  {
   "cell_type": "code",
   "execution_count": 5,
   "metadata": {
    "collapsed": true
   },
   "outputs": [],
   "source": [
    "# Load the features into a dataframe\n",
    "import h5py\n",
    "with h5py.File(\"data/tumor_normal.h5\", \"r\") as f:\n",
    "    genes = f[\"genes\"][:]"
   ]
  },
  {
   "cell_type": "code",
   "execution_count": 8,
   "metadata": {},
   "outputs": [
    {
     "data": {
      "text/html": [
       "<div>\n",
       "<style>\n",
       "    .dataframe thead tr:only-child th {\n",
       "        text-align: right;\n",
       "    }\n",
       "\n",
       "    .dataframe thead th {\n",
       "        text-align: left;\n",
       "    }\n",
       "\n",
       "    .dataframe tbody tr th {\n",
       "        vertical-align: top;\n",
       "    }\n",
       "</style>\n",
       "<table border=\"1\" class=\"dataframe\">\n",
       "  <thead>\n",
       "    <tr style=\"text-align: right;\">\n",
       "      <th></th>\n",
       "      <th>0</th>\n",
       "    </tr>\n",
       "  </thead>\n",
       "  <tbody>\n",
       "    <tr>\n",
       "      <th>CTC-305H11</th>\n",
       "      <td>23.287769</td>\n",
       "    </tr>\n",
       "    <tr>\n",
       "      <th>RP11-78A18</th>\n",
       "      <td>20.994854</td>\n",
       "    </tr>\n",
       "    <tr>\n",
       "      <th>U3</th>\n",
       "      <td>19.101227</td>\n",
       "    </tr>\n",
       "    <tr>\n",
       "      <th>RP11-297L1</th>\n",
       "      <td>18.811268</td>\n",
       "    </tr>\n",
       "    <tr>\n",
       "      <th>LINC00363</th>\n",
       "      <td>18.586199</td>\n",
       "    </tr>\n",
       "  </tbody>\n",
       "</table>\n",
       "</div>"
      ],
      "text/plain": [
       "                    0\n",
       "CTC-305H11  23.287769\n",
       "RP11-78A18  20.994854\n",
       "U3          19.101227\n",
       "RP11-297L1  18.811268\n",
       "LINC00363   18.586199"
      ]
     },
     "execution_count": 8,
     "metadata": {},
     "output_type": "execute_result"
    }
   ],
   "source": [
    "\"\"\"\n",
    "First do the simplest thing - sum the weights at the first layer by gene, sort,\n",
    "and see if those with the highest weights intersect with the COSMIC list\n",
    "\n",
    "Maybe it should be the sum of the absolute value? Negative or positive weight implies affect...\n",
    "\"\"\"\n",
    "weights = model.layers[2].get_weights()\n",
    "ranks = np.absolute(np.sum(weights[0], axis=1))\n",
    "rankings = pd.DataFrame(ranks, index=genes.astype('U')).sort_values(by=0, ascending=False)\n",
    "rankings.head()"
   ]
  },
  {
   "cell_type": "code",
   "execution_count": 9,
   "metadata": {},
   "outputs": [
    {
     "data": {
      "text/plain": [
       "array(['CTC-305H11', 'RP11-78A18', 'U3', ..., 'MIR6888', 'C12orf79',\n",
       "       'MIR4745'], dtype=object)"
      ]
     },
     "execution_count": 9,
     "metadata": {},
     "output_type": "execute_result"
    }
   ],
   "source": [
    "rankings.index.values"
   ]
  },
  {
   "cell_type": "code",
   "execution_count": 10,
   "metadata": {
    "collapsed": true
   },
   "outputs": [],
   "source": [
    "cosmic = pd.read_table(\"cancer_genes.tsv\")[\"Gene Symbol\"].values"
   ]
  },
  {
   "cell_type": "code",
   "execution_count": 15,
   "metadata": {},
   "outputs": [
    {
     "data": {
      "text/plain": [
       "(61,)"
      ]
     },
     "execution_count": 15,
     "metadata": {},
     "output_type": "execute_result"
    }
   ],
   "source": [
    "np.intersect1d(rankings.index.values[0:10000], cosmic).shape"
   ]
  },
  {
   "cell_type": "code",
   "execution_count": 12,
   "metadata": {},
   "outputs": [
    {
     "name": "stdout",
     "output_type": "stream",
     "text": [
      "Collecting git+https://github.com/kundajelab/deeplift.git\n",
      "  Cloning https://github.com/kundajelab/deeplift.git to /tmp/pip-bzq8yc3w-build\n",
      "Requirement already satisfied: numpy>=1.9 in /opt/conda/lib/python3.5/site-packages (from deeplift===0.5.1-theano)\n",
      "Requirement already satisfied: theano>=0.8 in /opt/conda/lib/python3.5/site-packages (from deeplift===0.5.1-theano)\n",
      "Requirement already satisfied: six>=1.9.0 in /opt/conda/lib/python3.5/site-packages (from theano>=0.8->deeplift===0.5.1-theano)\n",
      "Requirement already satisfied: scipy>=0.14 in /opt/conda/lib/python3.5/site-packages (from theano>=0.8->deeplift===0.5.1-theano)\n",
      "Installing collected packages: deeplift\n",
      "  Running setup.py install for deeplift ... \u001b[?25ldone\n",
      "\u001b[?25hSuccessfully installed deeplift-0.5.1-theano\n"
     ]
    }
   ],
   "source": [
    "# Try DeepLIFT\n",
    "!pip install git+https://github.com/kundajelab/deeplift.git"
   ]
  },
  {
   "cell_type": "code",
   "execution_count": 16,
   "metadata": {},
   "outputs": [
    {
     "name": "stdout",
     "output_type": "stream",
     "text": [
      "nonlinear_mxts_mode is set to: DeepLIFT_GenomicsDefault\n"
     ]
    },
    {
     "ename": "KeyError",
     "evalue": "'inputlayer'",
     "output_type": "error",
     "traceback": [
      "\u001b[0;31m---------------------------------------------------------\u001b[0m",
      "\u001b[0;31mKeyError\u001b[0m                Traceback (most recent call last)",
      "\u001b[0;32m<ipython-input-16-628dfe9645d0>\u001b[0m in \u001b[0;36m<module>\u001b[0;34m()\u001b[0m\n\u001b[1;32m      4\u001b[0m deeplift_model = kc.convert_sequential_model(\n\u001b[1;32m      5\u001b[0m                     \u001b[0mmodel\u001b[0m\u001b[0;34m,\u001b[0m\u001b[0;34m\u001b[0m\u001b[0m\n\u001b[0;32m----> 6\u001b[0;31m                     nonlinear_mxts_mode=deeplift.blobs.NonlinearMxtsMode.DeepLIFT_GenomicsDefault)\n\u001b[0m\u001b[1;32m      7\u001b[0m \u001b[0;34m\u001b[0m\u001b[0m\n\u001b[1;32m      8\u001b[0m \u001b[0mfind_scores_layer_idx\u001b[0m \u001b[0;34m=\u001b[0m \u001b[0;36m0\u001b[0m\u001b[0;34m\u001b[0m\u001b[0m\n",
      "\u001b[0;32m/opt/conda/lib/python3.5/site-packages/deeplift/conversion/keras_conversion.py\u001b[0m in \u001b[0;36mconvert_sequential_model\u001b[0;34m(model, num_dims, nonlinear_mxts_mode, verbose, dense_mxts_mode, conv_mxts_mode, maxpool_deeplift_mode, layer_overrides)\u001b[0m\n\u001b[1;32m    367\u001b[0m                 \u001b[0mmaxpool_deeplift_mode\u001b[0m\u001b[0;34m=\u001b[0m\u001b[0mmaxpool_deeplift_mode\u001b[0m\u001b[0;34m,\u001b[0m\u001b[0;34m\u001b[0m\u001b[0m\n\u001b[1;32m    368\u001b[0m                 \u001b[0mconverted_layers\u001b[0m\u001b[0;34m=\u001b[0m\u001b[0mconverted_layers\u001b[0m\u001b[0;34m,\u001b[0m\u001b[0;34m\u001b[0m\u001b[0m\n\u001b[0;32m--> 369\u001b[0;31m                 layer_overrides=layer_overrides)\n\u001b[0m\u001b[1;32m    370\u001b[0m     \u001b[0mdeeplift\u001b[0m\u001b[0;34m.\u001b[0m\u001b[0mutil\u001b[0m\u001b[0;34m.\u001b[0m\u001b[0mconnect_list_of_layers\u001b[0m\u001b[0;34m(\u001b[0m\u001b[0mconverted_layers\u001b[0m\u001b[0;34m)\u001b[0m\u001b[0;34m\u001b[0m\u001b[0m\n\u001b[1;32m    371\u001b[0m     \u001b[0mconverted_layers\u001b[0m\u001b[0;34m[\u001b[0m\u001b[0;34m-\u001b[0m\u001b[0;36m1\u001b[0m\u001b[0;34m]\u001b[0m\u001b[0;34m.\u001b[0m\u001b[0mbuild_fwd_pass_vars\u001b[0m\u001b[0;34m(\u001b[0m\u001b[0;34m)\u001b[0m\u001b[0;34m\u001b[0m\u001b[0m\n",
      "\u001b[0;32m/opt/conda/lib/python3.5/site-packages/deeplift/conversion/keras_conversion.py\u001b[0m in \u001b[0;36msequential_container_conversion\u001b[0;34m(layer, name, verbose, nonlinear_mxts_mode, dense_mxts_mode, conv_mxts_mode, maxpool_deeplift_mode, converted_layers, layer_overrides)\u001b[0m\n\u001b[1;32m    286\u001b[0m                     \u001b[0mmodes_to_pass\u001b[0m\u001b[0;34m[\u001b[0m\u001b[0mmode\u001b[0m\u001b[0;34m]\u001b[0m \u001b[0;34m=\u001b[0m \u001b[0mlayer_overrides\u001b[0m\u001b[0;34m[\u001b[0m\u001b[0mlayer_idx\u001b[0m\u001b[0;34m]\u001b[0m\u001b[0;34m[\u001b[0m\u001b[0mmode\u001b[0m\u001b[0;34m]\u001b[0m\u001b[0;34m\u001b[0m\u001b[0m\n\u001b[1;32m    287\u001b[0m         conversion_function = layer_name_to_conversion_function(\n\u001b[0;32m--> 288\u001b[0;31m                                type(layer).__name__)\n\u001b[0m\u001b[1;32m    289\u001b[0m         converted_layers.extend(conversion_function(\n\u001b[1;32m    290\u001b[0m                              \u001b[0mlayer\u001b[0m\u001b[0;34m=\u001b[0m\u001b[0mlayer\u001b[0m\u001b[0;34m,\u001b[0m\u001b[0;34m\u001b[0m\u001b[0m\n",
      "\u001b[0;32m/opt/conda/lib/python3.5/site-packages/deeplift/conversion/keras_conversion.py\u001b[0m in \u001b[0;36mlayer_name_to_conversion_function\u001b[0;34m(layer_name)\u001b[0m\n\u001b[1;32m    329\u001b[0m     \u001b[0;31m# lowercase to create resistance to capitalization changes\u001b[0m\u001b[0;34m\u001b[0m\u001b[0;34m\u001b[0m\u001b[0m\n\u001b[1;32m    330\u001b[0m     \u001b[0;31m# was a problem with previous Keras versions\u001b[0m\u001b[0;34m\u001b[0m\u001b[0;34m\u001b[0m\u001b[0m\n\u001b[0;32m--> 331\u001b[0;31m     \u001b[0;32mreturn\u001b[0m \u001b[0mname_dict\u001b[0m\u001b[0;34m[\u001b[0m\u001b[0mlayer_name\u001b[0m\u001b[0;34m.\u001b[0m\u001b[0mlower\u001b[0m\u001b[0;34m(\u001b[0m\u001b[0;34m)\u001b[0m\u001b[0;34m]\u001b[0m\u001b[0;34m\u001b[0m\u001b[0m\n\u001b[0m\u001b[1;32m    332\u001b[0m \u001b[0;34m\u001b[0m\u001b[0m\n\u001b[1;32m    333\u001b[0m \u001b[0;34m\u001b[0m\u001b[0m\n",
      "\u001b[0;31mKeyError\u001b[0m: 'inputlayer'"
     ]
    }
   ],
   "source": [
    "import deeplift\n",
    "from deeplift.conversion import keras_conversion as kc\n",
    "\n",
    "deeplift_model = kc.convert_sequential_model(\n",
    "                    model,\n",
    "                    nonlinear_mxts_mode=deeplift.blobs.NonlinearMxtsMode.DeepLIFT_GenomicsDefault)\n",
    "\n",
    "find_scores_layer_idx = 0\n",
    "\n",
    "deeplift_contribs_func = deeplift_model.get_target_contribs_func(\n",
    "                            find_scores_layer_idx=find_scores_layer_idx,\n",
    "                            target_layer_idx=-1)\n",
    "\n",
    "scores = np.array(deeplift_contribs_func(task_idx=0,\n",
    "                                         input_data_list=[X_train],\n",
    "                                         batch_size=10,\n",
    "                                         progress_update=1000))"
   ]
  },
  {
   "cell_type": "code",
   "execution_count": 20,
   "metadata": {},
   "outputs": [
    {
     "data": {
      "text/plain": [
       "'input_1'"
      ]
     },
     "execution_count": 20,
     "metadata": {},
     "output_type": "execute_result"
    }
   ],
   "source": [
    "model.layers[0].name"
   ]
  }
 ],
 "metadata": {
  "kernelspec": {
   "display_name": "Python 3",
   "language": "python",
   "name": "python3"
  },
  "language_info": {
   "codemirror_mode": {
    "name": "ipython",
    "version": 3
   },
   "file_extension": ".py",
   "mimetype": "text/x-python",
   "name": "python",
   "nbconvert_exporter": "python",
   "pygments_lexer": "ipython3",
   "version": "3.5.2"
  }
 },
 "nbformat": 4,
 "nbformat_minor": 2
}
