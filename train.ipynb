{
 "cells": [
  {
   "cell_type": "markdown",
   "metadata": {},
   "source": [
    "# Deriving cancer gene's from expression data\n",
    "\n",
    "See if it's possible to train a deep neural network tumor/normal binary classifier using just the Toil TCGA, TARGET and GTEX expression datasets:\n",
    "\n",
    "https://xenabrowser.net/datapages/?host=https://toil.xenahubs.net)\n",
    "\n",
    "If we can, then see whether any of the early layers re-capitulates the COSMIC cancer gene census:\n",
    "\n",
    "http://cancer.sanger.ac.uk/census/"
   ]
  },
  {
   "cell_type": "code",
   "execution_count": 1,
   "metadata": {
    "collapsed": true
   },
   "outputs": [],
   "source": [
    "import os\n",
    "import numpy as np\n",
    "import pandas as pd\n",
    "\n",
    "# fix random seed for reproducibility\n",
    "np.random.seed(42)"
   ]
  },
  {
   "cell_type": "code",
   "execution_count": 2,
   "metadata": {},
   "outputs": [
    {
     "name": "stderr",
     "output_type": "stream",
     "text": [
      "Using TensorFlow backend.\n"
     ]
    },
    {
     "name": "stdout",
     "output_type": "stream",
     "text": [
      "Training on partial dataset\n",
      "X_train.shape: (1000, 60498) epochs: 1 batch_size: 256\n"
     ]
    }
   ],
   "source": [
    "from keras.utils.io_utils import HDF5Matrix\n",
    "\n",
    "input_file = \"data/tumor_normal.h5\"\n",
    "\n",
    "# different size parameters if debugging or using full dataset\n",
    "if os.getenv(\"DEBUG\", \"True\") == \"True\":\n",
    "    X_train = HDF5Matrix(input_file, \"X_train\", start=0, end=1000)\n",
    "    X_test = HDF5Matrix(input_file, \"X_test\", start=0, end=200)\n",
    "    y_train = HDF5Matrix(input_file, \"y_train\", start=0, end=1000)\n",
    "    y_test = HDF5Matrix(input_file, \"y_test\", start=0, end=200)\n",
    "    print(\"Training on partial dataset\")\n",
    "    epochs=1\n",
    "    batch_size=256\n",
    "else:\n",
    "    X_train = HDF5Matrix(input_file, \"X_train\")\n",
    "    X_test = HDF5Matrix(input_file, \"X_test\")\n",
    "    y_train = HDF5Matrix(input_file, \"y_train\")\n",
    "    y_test = HDF5Matrix(input_file, \"y_test\")\n",
    "    print(\"Training on full dataset\")\n",
    "    epochs=32\n",
    "    batch_size=128\n",
    "    \n",
    "print(\"X_train.shape:\", X_train.shape, \"epochs:\", epochs, \"batch_size:\", batch_size)"
   ]
  },
  {
   "cell_type": "code",
   "execution_count": 4,
   "metadata": {},
   "outputs": [
    {
     "name": "stdout",
     "output_type": "stream",
     "text": [
      "Epoch 1/1\n",
      "1000/1000 [==============================] - 59s - loss: 6.5625 - acc: 0.5060     \n",
      "200/200 [==============================] - 2s     \n"
     ]
    },
    {
     "data": {
      "text/plain": [
       "[7.0943613052368164, 0.55500000000000005]"
      ]
     },
     "execution_count": 4,
     "metadata": {},
     "output_type": "execute_result"
    }
   ],
   "source": [
    "\"\"\"\n",
    "Trivial network to just verify all the pieces are working\n",
    "\"\"\"\n",
    "\n",
    "from keras.layers import Dense\n",
    "from keras.models import Model, Sequential\n",
    "\n",
    "classify = [\n",
    "    Dense(5000, input_dim=X_train.shape[1], activation='relu'),\n",
    "    Dense(2500, activation='relu'),\n",
    "    Dense(1, activation='sigmoid')\n",
    "]\n",
    "\n",
    "model = Sequential(classify)\n",
    "model.compile(loss='binary_crossentropy', optimizer='adam', metrics=['accuracy'])\n",
    "model.fit(X_train, y_train, epochs=epochs, batch_size=batch_size, shuffle=\"batch\")\n",
    "model.evaluate(X_test, y_test)"
   ]
  }
 ],
 "metadata": {
  "kernelspec": {
   "display_name": "Python 3",
   "language": "python",
   "name": "python3"
  },
  "language_info": {
   "codemirror_mode": {
    "name": "ipython",
    "version": 3
   },
   "file_extension": ".py",
   "mimetype": "text/x-python",
   "name": "python",
   "nbconvert_exporter": "python",
   "pygments_lexer": "ipython3",
   "version": "3.5.2"
  }
 },
 "nbformat": 4,
 "nbformat_minor": 2
}
