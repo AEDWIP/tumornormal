{
 "cells": [
  {
   "cell_type": "markdown",
   "metadata": {},
   "source": [
    "# Evaluate Logistic Regression\n",
    "\n"
   ]
  },
  {
   "cell_type": "code",
   "execution_count": 1,
   "metadata": {},
   "outputs": [
    {
     "name": "stderr",
     "output_type": "stream",
     "text": [
      "/Library/Frameworks/Python.framework/Versions/3.6/lib/python3.6/site-packages/h5py/__init__.py:36: FutureWarning: Conversion of the second argument of issubdtype from `float` to `np.floating` is deprecated. In future, it will be treated as `np.float64 == np.dtype(float).type`.\n",
      "  from ._conv import register_converters as _register_converters\n",
      "Using TensorFlow backend.\n",
      "/Library/Frameworks/Python.framework/Versions/3.6/lib/python3.6/importlib/_bootstrap.py:205: RuntimeWarning: compiletime version 3.5 of module 'tensorflow.python.framework.fast_tensor_util' does not match runtime version 3.6\n",
      "  return f(*args, **kwds)\n"
     ]
    }
   ],
   "source": [
    "import numpy as np\n",
    "import keras\n",
    "import tensorflow as tf\n",
    "\n",
    "# import local files\n",
    "import sys\n",
    "sys.path.append('pyDevProj/src')\n",
    "import utils.load as utils\n",
    "import utils.preprocess as pre\n",
    "\n",
    "# fix random seed for reproducibility\n",
    "np.random.seed(42)\n",
    "\n",
    "DEBUG = False"
   ]
  },
  {
   "cell_type": "code",
   "execution_count": 11,
   "metadata": {},
   "outputs": [
    {
     "name": "stdout",
     "output_type": "stream",
     "text": [
      "Test results\n"
     ]
    },
    {
     "data": {
      "text/html": [
       "<div>\n",
       "<style scoped>\n",
       "    .dataframe tbody tr th:only-of-type {\n",
       "        vertical-align: middle;\n",
       "    }\n",
       "\n",
       "    .dataframe tbody tr th {\n",
       "        vertical-align: top;\n",
       "    }\n",
       "\n",
       "    .dataframe thead th {\n",
       "        text-align: right;\n",
       "    }\n",
       "</style>\n",
       "<table border=\"1\" class=\"dataframe\">\n",
       "  <thead>\n",
       "    <tr style=\"text-align: right;\">\n",
       "      <th></th>\n",
       "      <th>data set</th>\n",
       "      <th>n</th>\n",
       "      <th>m</th>\n",
       "      <th>epochs</th>\n",
       "      <th>error rate</th>\n",
       "      <th>Run</th>\n",
       "      <th>file</th>\n",
       "      <th>date</th>\n",
       "    </tr>\n",
       "  </thead>\n",
       "  <tbody>\n",
       "    <tr>\n",
       "      <th>0</th>\n",
       "      <td>debug train</td>\n",
       "      <td>2</td>\n",
       "      <td>7</td>\n",
       "      <td>5000</td>\n",
       "      <td>0.285714</td>\n",
       "      <td>xxx</td>\n",
       "      <td>simpleLogisticRegression.tfModel</td>\n",
       "      <td>2018-01-30</td>\n",
       "    </tr>\n",
       "    <tr>\n",
       "      <th>1</th>\n",
       "      <td>small train</td>\n",
       "      <td>60498100</td>\n",
       "      <td>1000</td>\n",
       "      <td>100</td>\n",
       "      <td>0.028000</td>\n",
       "      <td>xxx</td>\n",
       "      <td>simpleLogisticRegression.tfModel</td>\n",
       "      <td>2018-01-30</td>\n",
       "    </tr>\n",
       "    <tr>\n",
       "      <th>2</th>\n",
       "      <td>large train</td>\n",
       "      <td>60498100</td>\n",
       "      <td>15300</td>\n",
       "      <td>100</td>\n",
       "      <td>0.040719</td>\n",
       "      <td>fullDataSet_100epochs</td>\n",
       "      <td>simpleLogisticRegression.tfModel</td>\n",
       "      <td>2018-02-03</td>\n",
       "    </tr>\n",
       "    <tr>\n",
       "      <th>3</th>\n",
       "      <td>large test</td>\n",
       "      <td>60498100</td>\n",
       "      <td>3826</td>\n",
       "      <td>0</td>\n",
       "      <td>0.039467</td>\n",
       "      <td>fullDataSet_100epochs</td>\n",
       "      <td>simpleLogisticRegression.tfModel</td>\n",
       "      <td>2018-02-16</td>\n",
       "    </tr>\n",
       "  </tbody>\n",
       "</table>\n",
       "</div>"
      ],
      "text/plain": [
       "      data set         n      m  epochs  error rate                    Run  \\\n",
       "0  debug train         2      7    5000    0.285714                    xxx   \n",
       "1  small train  60498100   1000     100    0.028000                    xxx   \n",
       "2  large train  60498100  15300     100    0.040719  fullDataSet_100epochs   \n",
       "3   large test  60498100   3826       0    0.039467  fullDataSet_100epochs   \n",
       "\n",
       "                               file       date  \n",
       "0  simpleLogisticRegression.tfModel 2018-01-30  \n",
       "1  simpleLogisticRegression.tfModel 2018-01-30  \n",
       "2  simpleLogisticRegression.tfModel 2018-02-03  \n",
       "3  simpleLogisticRegression.tfModel 2018-02-16  "
      ]
     },
     "execution_count": 11,
     "metadata": {},
     "output_type": "execute_result"
    }
   ],
   "source": [
    "import pandas as pd\n",
    "from tabulate import tabulate\n",
    "\n",
    "file_name = \"modelResults.xlsx\"\n",
    "resultsDF = pd.read_excel(file_name, sheet_name=\"Sheet1\") \n",
    "\n",
    "print(\"Test results\")\n",
    "resultsDF[['data set', 'n', 'm', 'epochs', 'error rate',  'Run', 'file', 'date'] ]\n",
    "#resultsDF.loc[1:2, ['date', 'file', 'data set', 'n', 'm', 'epochs', 'error rate']]"
   ]
  },
  {
   "cell_type": "code",
   "execution_count": 3,
   "metadata": {},
   "outputs": [
    {
     "name": "stdout",
     "output_type": "stream",
     "text": [
      "Testing on full dataset\n",
      "X_test.shape: (60498, 3826)\n",
      "y_test.shape: (1, 3826)\n"
     ]
    }
   ],
   "source": [
    "model_dir = \"models/logisticRegression/simpleLogisticRegression/\" \n",
    "model_name = \"AEDWIP\"\n",
    "model_run = \"AEDWIP\"\n",
    "\n",
    "if DEBUG:\n",
    "    # trained on test data. Ran 500 epochs\n",
    "    model_run = \"2018_02_08_02:19:11/\"\n",
    "    model_name = \"model.tfModel\"    \n",
    "    X_test, y_test = utils.test_train_data_set()\n",
    "else:\n",
    "    model_run = \"fullDataSet_100epochs/\"\n",
    "    model_name = \"simpleLogisticRegression.tfModel\"\n",
    "    input_file = \"data/tumor_normal.h5\"\n",
    "    X_test, y_test = utils.full_test_data_set(input_file)\n",
    "    X_test = pre.normalizeData( X_test )\n",
    "    m,n = X_test.shape\n",
    "    y_test = np.reshape(y_test, (1,m))\n",
    "      \n",
    "X_test = np.transpose(X_test)\n",
    "print(\"X_test.shape:\", X_test.shape)\n",
    "print(\"y_test.shape:\", y_test.shape)"
   ]
  },
  {
   "cell_type": "code",
   "execution_count": 4,
   "metadata": {},
   "outputs": [
    {
     "name": "stdout",
     "output_type": "stream",
     "text": [
      "models/logisticRegression/simpleLogisticRegression/fullDataSet_100epochs/\n"
     ]
    }
   ],
   "source": [
    "model_path = \"{}{}\".format(model_dir, model_run)\n",
    "# simpleLogisticRegression.tfModel\n",
    "print(model_path)"
   ]
  },
  {
   "cell_type": "markdown",
   "metadata": {},
   "source": [
    "[http://cv-tricks.com/tensorflow-tutorial/save-restore-tensorflow-models-quick-complete-tutorial/\n",
    "](http://cv-tricks.com/tensorflow-tutorial/save-restore-tensorflow-models-quick-complete-tutorial/\n",
    ")"
   ]
  },
  {
   "cell_type": "code",
   "execution_count": 5,
   "metadata": {
    "scrolled": false
   },
   "outputs": [
    {
     "name": "stdout",
     "output_type": "stream",
     "text": [
      "model: models/logisticRegression/simpleLogisticRegression/fullDataSet_100epochs/simpleLogisticRegression.tfModel.meta\n",
      "INFO:tensorflow:Restoring parameters from models/logisticRegression/simpleLogisticRegression/fullDataSet_100epochs/simpleLogisticRegression.tfModel\n",
      "error_rate: [0.03946681]\n",
      "CPU times: user 5.19 s, sys: 1.34 s, total: 6.53 s\n",
      "Wall time: 6.54 s\n"
     ]
    }
   ],
   "source": [
    "%%time\n",
    "\n",
    "# clear out any nodes from previous runs\n",
    "tf.reset_default_graph()\n",
    "init = tf.global_variables_initializer()\n",
    "\n",
    "#saver = tf.train.Saver()\n",
    "with tf.Session() as sess:\n",
    "    \n",
    "    # import pre trained model\n",
    "    model = model_path + model_name + \".meta\"\n",
    "    print(\"model:\", model)\n",
    "    saver = tf.train.import_meta_graph(model)\n",
    "    saver.restore(sess,tf.train.latest_checkpoint(model_path))\n",
    "        \n",
    "    # access pre trained model's placeholder variables\n",
    "    graph = tf.get_default_graph()\n",
    "    \n",
    "#     print(\"AEDWIP\\n\", [n.name for n in graph.as_graph_def().node])\n",
    "\n",
    "    X = graph.get_tensor_by_name(\"input_data/X:0\")\n",
    "    y = graph.get_tensor_by_name(\"input_data/y:0\")\n",
    "    \n",
    "    if DEBUG:\n",
    "        w = graph.get_tensor_by_name(\"model_parameters/w:0\")\n",
    "        b = graph.get_tensor_by_name(\"model_parameters/b:0\")\n",
    "    \n",
    "\n",
    "    # access the op we want to run.\n",
    "    yhat = graph.get_tensor_by_name(\"Predict/yhat:0\")\n",
    "    error_rate = graph.get_tensor_by_name(\"Predict/error_rate:0\")\n",
    "    \n",
    "    if DEBUG:\n",
    "        z = graph.get_tensor_by_name(\"Predict/z:0\")\n",
    "        a = graph.get_tensor_by_name(\"Predict/a:0\") # activation\n",
    "    \n",
    "    data = { X:X_test, y:y_test}\n",
    "    fetchResults ={\n",
    "                \"yhat\":yhat,\n",
    "                \"error_rate\":error_rate\n",
    "                }\n",
    "    \n",
    "    if DEBUG:\n",
    "        fetchResults.update({\"w\":w,\"b\":b,\"z\":z,\"a\":a})\n",
    "\n",
    "    results = sess.run(fetchResults, feed_dict=data)\n",
    "\n",
    "    print(\"error_rate:\", results['error_rate'])\n",
    "    \n",
    "    if DEBUG:\n",
    "        print(\"yhat:\", results['yhat']) \n",
    "        print(\"w:\", results['w'])\n",
    "        print(\"b:\", results['b'])\n",
    "        print(\"z:\", results['z'])\n",
    "        print(\"a:\", results['a'])\n",
    "    "
   ]
  },
  {
   "cell_type": "code",
   "execution_count": 6,
   "metadata": {},
   "outputs": [],
   "source": [
    "if DEBUG:\n",
    "    ww = np.array([[0.36739343],[0.15979535]])\n",
    "    assert np.isclose(results['w'], ww).all()\n",
    "    assert np.isclose( results['b'], 0.7924019228518157 )\n",
    "\n",
    "    zz = np.dot(np.transpose(ww), X_test) + results['b']\n",
    "    assert np.isclose( results['z'],zz ).all()\n",
    "    \n",
    "    aa = 1/(1+np.exp(-zz))\n",
    "    assert np.isclose( results['a'],aa ).all()\n",
    "    assert np.isclose(0.42857143, results['error_rate'])"
   ]
  }
 ],
 "metadata": {
  "kernelspec": {
   "display_name": "Python 3",
   "language": "python",
   "name": "python3"
  },
  "language_info": {
   "codemirror_mode": {
    "name": "ipython",
    "version": 3
   },
   "file_extension": ".py",
   "mimetype": "text/x-python",
   "name": "python",
   "nbconvert_exporter": "python",
   "pygments_lexer": "ipython3",
   "version": "3.6.1"
  }
 },
 "nbformat": 4,
 "nbformat_minor": 2
}
