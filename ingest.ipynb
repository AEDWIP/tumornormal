{
 "cells": [
  {
   "cell_type": "markdown",
   "metadata": {
    "deletable": true,
    "editable": true
   },
   "source": [
    "# Ingest gene expression data from TCGA, TARGET and GTEX\n",
    "\n",
    "Ingest from xena, calculate a tumor/normal feature, and export into an hdf5 file formatted for machine learning"
   ]
  },
  {
   "cell_type": "code",
   "execution_count": 7,
   "metadata": {
    "collapsed": false,
    "deletable": true,
    "editable": true
   },
   "outputs": [],
   "source": [
    "import numpy as np\n",
    "import pandas as pd\n",
    "import h5py\n",
    "from collections import defaultdict\n",
    "\n",
    "!pip3 install -q tables"
   ]
  },
  {
   "cell_type": "code",
   "execution_count": 8,
   "metadata": {
    "collapsed": false,
    "deletable": true,
    "editable": true
   },
   "outputs": [
    {
     "name": "stdout",
     "output_type": "stream",
     "text": [
      "CPU times: user 18min 55s, sys: 16.9 s, total: 19min 12s\n",
      "Wall time: 19min 13s\n"
     ]
    }
   ],
   "source": [
    "%%time\n",
    "# Convert expression tsv into dataframe loading directly as float32 vs. pandas float64 default\n",
    "# Source: https://toil.xenahubs.net/download/TcgaTargetGtex_rsem_gene_tpm\n",
    "converters = defaultdict(str)\n",
    "converters[\"sample\"] = str\n",
    "expression = pd.read_csv(\"/data/scratch/rcurrie/xena/TcgaTargetGtex_rsem_gene_tpm\", \n",
    "                         sep=\"\\t\", index_col=0, converters=converters, dtype=np.float32).T\n",
    "expression.to_hdf(\"/data/scratch/rcurrie/xena/TcgaTargetGtex_rsem_gene_tpm.hd5\", \"expression\", \n",
    "                  mode=\"w\", format=\"fixed\")"
   ]
  },
  {
   "cell_type": "code",
   "execution_count": 9,
   "metadata": {
    "collapsed": false,
    "deletable": true,
    "editable": true
   },
   "outputs": [
    {
     "name": "stdout",
     "output_type": "stream",
     "text": [
      "CPU times: user 1.87 s, sys: 4.33 s, total: 6.2 s\n",
      "Wall time: 6.2 s\n"
     ]
    }
   ],
   "source": [
    "%%time\n",
    "# Read back hdf using pandas - conveniance for later iterations so we can skip above tsv import\n",
    "X = pd.read_hdf(\"/data/scratch/rcurrie/xena/TcgaTargetGtex_rsem_gene_tpm.hd5\", \"expression\").sort_index(axis=0)"
   ]
  },
  {
   "cell_type": "code",
   "execution_count": 21,
   "metadata": {
    "collapsed": false,
    "deletable": true,
    "editable": true
   },
   "outputs": [
    {
     "data": {
      "text/html": [
       "<div>\n",
       "<table border=\"1\" class=\"dataframe\">\n",
       "  <thead>\n",
       "    <tr style=\"text-align: right;\">\n",
       "      <th>sample</th>\n",
       "      <th>ENSG00000242268.2</th>\n",
       "      <th>ENSG00000259041.1</th>\n",
       "      <th>ENSG00000270112.3</th>\n",
       "      <th>ENSG00000167578.16</th>\n",
       "      <th>ENSG00000278814.1</th>\n",
       "      <th>ENSG00000078237.5</th>\n",
       "      <th>ENSG00000269416.5</th>\n",
       "      <th>ENSG00000263642.1</th>\n",
       "      <th>ENSG00000146083.11</th>\n",
       "      <th>ENSG00000158486.13</th>\n",
       "      <th>...</th>\n",
       "      <th>ENSG00000009694.13</th>\n",
       "      <th>ENSG00000238244.3</th>\n",
       "      <th>ENSG00000216352.1</th>\n",
       "      <th>ENSG00000123685.8</th>\n",
       "      <th>ENSG00000267117.1</th>\n",
       "      <th>ENSG00000273233.1</th>\n",
       "      <th>ENSG00000105063.18</th>\n",
       "      <th>ENSG00000231119.2</th>\n",
       "      <th>ENSG00000280861.1</th>\n",
       "      <th>ENSG00000181518.3</th>\n",
       "    </tr>\n",
       "  </thead>\n",
       "  <tbody>\n",
       "    <tr>\n",
       "      <th>GTEX-1117F-0226-SM-5GZZ7</th>\n",
       "      <td>-9.9658</td>\n",
       "      <td>-9.9658</td>\n",
       "      <td>-4.2934</td>\n",
       "      <td>5.1190</td>\n",
       "      <td>-9.9658</td>\n",
       "      <td>0.8488</td>\n",
       "      <td>-9.9658</td>\n",
       "      <td>-9.9658</td>\n",
       "      <td>5.1498</td>\n",
       "      <td>-9.9658</td>\n",
       "      <td>...</td>\n",
       "      <td>2.4571</td>\n",
       "      <td>-1.4305</td>\n",
       "      <td>-9.9658</td>\n",
       "      <td>2.8178</td>\n",
       "      <td>-0.1031</td>\n",
       "      <td>-9.9658</td>\n",
       "      <td>5.1631</td>\n",
       "      <td>-3.3076</td>\n",
       "      <td>-9.9658</td>\n",
       "      <td>-9.9658</td>\n",
       "    </tr>\n",
       "    <tr>\n",
       "      <th>GTEX-1117F-0426-SM-5EGHI</th>\n",
       "      <td>-9.9658</td>\n",
       "      <td>-9.9658</td>\n",
       "      <td>0.0014</td>\n",
       "      <td>4.1277</td>\n",
       "      <td>-9.9658</td>\n",
       "      <td>0.6880</td>\n",
       "      <td>-9.9658</td>\n",
       "      <td>-9.9658</td>\n",
       "      <td>3.4830</td>\n",
       "      <td>-9.9658</td>\n",
       "      <td>...</td>\n",
       "      <td>-0.9132</td>\n",
       "      <td>-9.9658</td>\n",
       "      <td>-9.9658</td>\n",
       "      <td>-0.9406</td>\n",
       "      <td>-9.9658</td>\n",
       "      <td>-1.5105</td>\n",
       "      <td>4.1764</td>\n",
       "      <td>-5.0116</td>\n",
       "      <td>-9.9658</td>\n",
       "      <td>-9.9658</td>\n",
       "    </tr>\n",
       "    <tr>\n",
       "      <th>GTEX-1117F-0526-SM-5EGHJ</th>\n",
       "      <td>-9.9658</td>\n",
       "      <td>-9.9658</td>\n",
       "      <td>-9.9658</td>\n",
       "      <td>4.4067</td>\n",
       "      <td>-9.9658</td>\n",
       "      <td>0.0440</td>\n",
       "      <td>-9.9658</td>\n",
       "      <td>-9.9658</td>\n",
       "      <td>4.3841</td>\n",
       "      <td>-9.9658</td>\n",
       "      <td>...</td>\n",
       "      <td>1.5165</td>\n",
       "      <td>-9.9658</td>\n",
       "      <td>-9.9658</td>\n",
       "      <td>1.7141</td>\n",
       "      <td>-1.1488</td>\n",
       "      <td>-9.9658</td>\n",
       "      <td>4.8768</td>\n",
       "      <td>-9.9658</td>\n",
       "      <td>-9.9658</td>\n",
       "      <td>-9.9658</td>\n",
       "    </tr>\n",
       "    <tr>\n",
       "      <th>GTEX-1117F-0626-SM-5N9CS</th>\n",
       "      <td>-1.2481</td>\n",
       "      <td>-9.9658</td>\n",
       "      <td>-5.5735</td>\n",
       "      <td>5.6860</td>\n",
       "      <td>-9.9658</td>\n",
       "      <td>1.3679</td>\n",
       "      <td>-9.9658</td>\n",
       "      <td>-9.9658</td>\n",
       "      <td>5.0644</td>\n",
       "      <td>-1.8836</td>\n",
       "      <td>...</td>\n",
       "      <td>1.5998</td>\n",
       "      <td>-9.9658</td>\n",
       "      <td>-9.9658</td>\n",
       "      <td>3.9356</td>\n",
       "      <td>-1.1488</td>\n",
       "      <td>-1.0559</td>\n",
       "      <td>4.8694</td>\n",
       "      <td>-1.9379</td>\n",
       "      <td>-9.9658</td>\n",
       "      <td>-9.9658</td>\n",
       "    </tr>\n",
       "    <tr>\n",
       "      <th>GTEX-1117F-0726-SM-5GIEN</th>\n",
       "      <td>-3.8160</td>\n",
       "      <td>-9.9658</td>\n",
       "      <td>0.3573</td>\n",
       "      <td>4.0357</td>\n",
       "      <td>-9.9658</td>\n",
       "      <td>-0.4325</td>\n",
       "      <td>-5.5735</td>\n",
       "      <td>-9.9658</td>\n",
       "      <td>3.9421</td>\n",
       "      <td>-3.4580</td>\n",
       "      <td>...</td>\n",
       "      <td>-3.1714</td>\n",
       "      <td>-9.9658</td>\n",
       "      <td>-9.9658</td>\n",
       "      <td>0.6608</td>\n",
       "      <td>-1.1811</td>\n",
       "      <td>-9.9658</td>\n",
       "      <td>3.6816</td>\n",
       "      <td>-2.6349</td>\n",
       "      <td>-9.9658</td>\n",
       "      <td>-9.9658</td>\n",
       "    </tr>\n",
       "  </tbody>\n",
       "</table>\n",
       "<p>5 rows × 60498 columns</p>\n",
       "</div>"
      ],
      "text/plain": [
       "sample                    ENSG00000242268.2  ENSG00000259041.1  \\\n",
       "GTEX-1117F-0226-SM-5GZZ7            -9.9658            -9.9658   \n",
       "GTEX-1117F-0426-SM-5EGHI            -9.9658            -9.9658   \n",
       "GTEX-1117F-0526-SM-5EGHJ            -9.9658            -9.9658   \n",
       "GTEX-1117F-0626-SM-5N9CS            -1.2481            -9.9658   \n",
       "GTEX-1117F-0726-SM-5GIEN            -3.8160            -9.9658   \n",
       "\n",
       "sample                    ENSG00000270112.3  ENSG00000167578.16  \\\n",
       "GTEX-1117F-0226-SM-5GZZ7            -4.2934              5.1190   \n",
       "GTEX-1117F-0426-SM-5EGHI             0.0014              4.1277   \n",
       "GTEX-1117F-0526-SM-5EGHJ            -9.9658              4.4067   \n",
       "GTEX-1117F-0626-SM-5N9CS            -5.5735              5.6860   \n",
       "GTEX-1117F-0726-SM-5GIEN             0.3573              4.0357   \n",
       "\n",
       "sample                    ENSG00000278814.1  ENSG00000078237.5  \\\n",
       "GTEX-1117F-0226-SM-5GZZ7            -9.9658             0.8488   \n",
       "GTEX-1117F-0426-SM-5EGHI            -9.9658             0.6880   \n",
       "GTEX-1117F-0526-SM-5EGHJ            -9.9658             0.0440   \n",
       "GTEX-1117F-0626-SM-5N9CS            -9.9658             1.3679   \n",
       "GTEX-1117F-0726-SM-5GIEN            -9.9658            -0.4325   \n",
       "\n",
       "sample                    ENSG00000269416.5  ENSG00000263642.1  \\\n",
       "GTEX-1117F-0226-SM-5GZZ7            -9.9658            -9.9658   \n",
       "GTEX-1117F-0426-SM-5EGHI            -9.9658            -9.9658   \n",
       "GTEX-1117F-0526-SM-5EGHJ            -9.9658            -9.9658   \n",
       "GTEX-1117F-0626-SM-5N9CS            -9.9658            -9.9658   \n",
       "GTEX-1117F-0726-SM-5GIEN            -5.5735            -9.9658   \n",
       "\n",
       "sample                    ENSG00000146083.11  ENSG00000158486.13  \\\n",
       "GTEX-1117F-0226-SM-5GZZ7              5.1498             -9.9658   \n",
       "GTEX-1117F-0426-SM-5EGHI              3.4830             -9.9658   \n",
       "GTEX-1117F-0526-SM-5EGHJ              4.3841             -9.9658   \n",
       "GTEX-1117F-0626-SM-5N9CS              5.0644             -1.8836   \n",
       "GTEX-1117F-0726-SM-5GIEN              3.9421             -3.4580   \n",
       "\n",
       "sample                          ...          ENSG00000009694.13  \\\n",
       "GTEX-1117F-0226-SM-5GZZ7        ...                      2.4571   \n",
       "GTEX-1117F-0426-SM-5EGHI        ...                     -0.9132   \n",
       "GTEX-1117F-0526-SM-5EGHJ        ...                      1.5165   \n",
       "GTEX-1117F-0626-SM-5N9CS        ...                      1.5998   \n",
       "GTEX-1117F-0726-SM-5GIEN        ...                     -3.1714   \n",
       "\n",
       "sample                    ENSG00000238244.3  ENSG00000216352.1  \\\n",
       "GTEX-1117F-0226-SM-5GZZ7            -1.4305            -9.9658   \n",
       "GTEX-1117F-0426-SM-5EGHI            -9.9658            -9.9658   \n",
       "GTEX-1117F-0526-SM-5EGHJ            -9.9658            -9.9658   \n",
       "GTEX-1117F-0626-SM-5N9CS            -9.9658            -9.9658   \n",
       "GTEX-1117F-0726-SM-5GIEN            -9.9658            -9.9658   \n",
       "\n",
       "sample                    ENSG00000123685.8  ENSG00000267117.1  \\\n",
       "GTEX-1117F-0226-SM-5GZZ7             2.8178            -0.1031   \n",
       "GTEX-1117F-0426-SM-5EGHI            -0.9406            -9.9658   \n",
       "GTEX-1117F-0526-SM-5EGHJ             1.7141            -1.1488   \n",
       "GTEX-1117F-0626-SM-5N9CS             3.9356            -1.1488   \n",
       "GTEX-1117F-0726-SM-5GIEN             0.6608            -1.1811   \n",
       "\n",
       "sample                    ENSG00000273233.1  ENSG00000105063.18  \\\n",
       "GTEX-1117F-0226-SM-5GZZ7            -9.9658              5.1631   \n",
       "GTEX-1117F-0426-SM-5EGHI            -1.5105              4.1764   \n",
       "GTEX-1117F-0526-SM-5EGHJ            -9.9658              4.8768   \n",
       "GTEX-1117F-0626-SM-5N9CS            -1.0559              4.8694   \n",
       "GTEX-1117F-0726-SM-5GIEN            -9.9658              3.6816   \n",
       "\n",
       "sample                    ENSG00000231119.2  ENSG00000280861.1  \\\n",
       "GTEX-1117F-0226-SM-5GZZ7            -3.3076            -9.9658   \n",
       "GTEX-1117F-0426-SM-5EGHI            -5.0116            -9.9658   \n",
       "GTEX-1117F-0526-SM-5EGHJ            -9.9658            -9.9658   \n",
       "GTEX-1117F-0626-SM-5N9CS            -1.9379            -9.9658   \n",
       "GTEX-1117F-0726-SM-5GIEN            -2.6349            -9.9658   \n",
       "\n",
       "sample                    ENSG00000181518.3  \n",
       "GTEX-1117F-0226-SM-5GZZ7            -9.9658  \n",
       "GTEX-1117F-0426-SM-5EGHI            -9.9658  \n",
       "GTEX-1117F-0526-SM-5EGHJ            -9.9658  \n",
       "GTEX-1117F-0626-SM-5N9CS            -9.9658  \n",
       "GTEX-1117F-0726-SM-5GIEN            -9.9658  \n",
       "\n",
       "[5 rows x 60498 columns]"
      ]
     },
     "execution_count": 21,
     "metadata": {},
     "output_type": "execute_result"
    }
   ],
   "source": [
    "X.head()"
   ]
  },
  {
   "cell_type": "code",
   "execution_count": 46,
   "metadata": {
    "collapsed": false,
    "deletable": true,
    "editable": true
   },
   "outputs": [
    {
     "data": {
      "text/html": [
       "<div>\n",
       "<table border=\"1\" class=\"dataframe\">\n",
       "  <thead>\n",
       "    <tr style=\"text-align: right;\">\n",
       "      <th></th>\n",
       "      <th>symbol</th>\n",
       "      <th>gene_family</th>\n",
       "    </tr>\n",
       "    <tr>\n",
       "      <th>ensembl_gene_id</th>\n",
       "      <th></th>\n",
       "      <th></th>\n",
       "    </tr>\n",
       "  </thead>\n",
       "  <tbody>\n",
       "    <tr>\n",
       "      <th>ENSG00000121410</th>\n",
       "      <td>A1BG</td>\n",
       "      <td>Immunoglobulin like domain containing</td>\n",
       "    </tr>\n",
       "    <tr>\n",
       "      <th>ENSG00000268895</th>\n",
       "      <td>A1BG-AS1</td>\n",
       "      <td>NaN</td>\n",
       "    </tr>\n",
       "    <tr>\n",
       "      <th>ENSG00000148584</th>\n",
       "      <td>A1CF</td>\n",
       "      <td>RNA binding motif containing</td>\n",
       "    </tr>\n",
       "    <tr>\n",
       "      <th>ENSG00000175899</th>\n",
       "      <td>A2M</td>\n",
       "      <td>C3 and PZP like, alpha-2-macroglobulin domain ...</td>\n",
       "    </tr>\n",
       "    <tr>\n",
       "      <th>ENSG00000245105</th>\n",
       "      <td>A2M-AS1</td>\n",
       "      <td>NaN</td>\n",
       "    </tr>\n",
       "  </tbody>\n",
       "</table>\n",
       "</div>"
      ],
      "text/plain": [
       "                   symbol                                        gene_family\n",
       "ensembl_gene_id                                                             \n",
       "ENSG00000121410      A1BG              Immunoglobulin like domain containing\n",
       "ENSG00000268895  A1BG-AS1                                                NaN\n",
       "ENSG00000148584      A1CF                       RNA binding motif containing\n",
       "ENSG00000175899       A2M  C3 and PZP like, alpha-2-macroglobulin domain ...\n",
       "ENSG00000245105   A2M-AS1                                                NaN"
      ]
     },
     "execution_count": 46,
     "metadata": {},
     "output_type": "execute_result"
    }
   ],
   "source": [
    "# Convert from ensembl to hugo gene names\n",
    "# http://www.genenames.org/cgi-bin/statistics\n",
    "ensembl = pd.read_table(\"/data/reference/hgnc_complete_set.txt\", \n",
    "                        usecols=[\"symbol\", \"ensembl_gene_id\", \"gene_family\"],\n",
    "                        index_col=2)\n",
    "ensembl.head()\n",
    "# ensembl.loc[\"ENSG00000121410\"].symbol"
   ]
  },
  {
   "cell_type": "code",
   "execution_count": 37,
   "metadata": {
    "collapsed": false,
    "deletable": true,
    "editable": true
   },
   "outputs": [
    {
     "data": {
      "text/html": [
       "<div>\n",
       "<table border=\"1\" class=\"dataframe\">\n",
       "  <thead>\n",
       "    <tr style=\"text-align: right;\">\n",
       "      <th></th>\n",
       "      <th>detailed_category</th>\n",
       "      <th>primary_site</th>\n",
       "      <th>sample_type</th>\n",
       "      <th>gender</th>\n",
       "      <th>study</th>\n",
       "      <th>tumor_normal</th>\n",
       "    </tr>\n",
       "  </thead>\n",
       "  <tbody>\n",
       "    <tr>\n",
       "      <th>GTEX-1117F-0226-SM-5GZZ7</th>\n",
       "      <td>Adipose - Subcutaneous</td>\n",
       "      <td>Adipose Tissue</td>\n",
       "      <td>Normal Tissue</td>\n",
       "      <td>Female</td>\n",
       "      <td>GTEX</td>\n",
       "      <td>Normal</td>\n",
       "    </tr>\n",
       "    <tr>\n",
       "      <th>GTEX-1117F-0426-SM-5EGHI</th>\n",
       "      <td>Muscle - Skeletal</td>\n",
       "      <td>Muscle</td>\n",
       "      <td>Normal Tissue</td>\n",
       "      <td>Female</td>\n",
       "      <td>GTEX</td>\n",
       "      <td>Normal</td>\n",
       "    </tr>\n",
       "    <tr>\n",
       "      <th>GTEX-1117F-0526-SM-5EGHJ</th>\n",
       "      <td>Artery - Tibial</td>\n",
       "      <td>Blood Vessel</td>\n",
       "      <td>Normal Tissue</td>\n",
       "      <td>Female</td>\n",
       "      <td>GTEX</td>\n",
       "      <td>Normal</td>\n",
       "    </tr>\n",
       "    <tr>\n",
       "      <th>GTEX-1117F-0626-SM-5N9CS</th>\n",
       "      <td>Artery - Coronary</td>\n",
       "      <td>Blood Vessel</td>\n",
       "      <td>Normal Tissue</td>\n",
       "      <td>Female</td>\n",
       "      <td>GTEX</td>\n",
       "      <td>Normal</td>\n",
       "    </tr>\n",
       "    <tr>\n",
       "      <th>GTEX-1117F-0726-SM-5GIEN</th>\n",
       "      <td>Heart - Atrial Appendage</td>\n",
       "      <td>Heart</td>\n",
       "      <td>Normal Tissue</td>\n",
       "      <td>Female</td>\n",
       "      <td>GTEX</td>\n",
       "      <td>Normal</td>\n",
       "    </tr>\n",
       "  </tbody>\n",
       "</table>\n",
       "</div>"
      ],
      "text/plain": [
       "                                 detailed_category    primary_site  \\\n",
       "GTEX-1117F-0226-SM-5GZZ7    Adipose - Subcutaneous  Adipose Tissue   \n",
       "GTEX-1117F-0426-SM-5EGHI         Muscle - Skeletal          Muscle   \n",
       "GTEX-1117F-0526-SM-5EGHJ           Artery - Tibial    Blood Vessel   \n",
       "GTEX-1117F-0626-SM-5N9CS         Artery - Coronary    Blood Vessel   \n",
       "GTEX-1117F-0726-SM-5GIEN  Heart - Atrial Appendage           Heart   \n",
       "\n",
       "                            sample_type  gender study tumor_normal  \n",
       "GTEX-1117F-0226-SM-5GZZ7  Normal Tissue  Female  GTEX       Normal  \n",
       "GTEX-1117F-0426-SM-5EGHI  Normal Tissue  Female  GTEX       Normal  \n",
       "GTEX-1117F-0526-SM-5EGHJ  Normal Tissue  Female  GTEX       Normal  \n",
       "GTEX-1117F-0626-SM-5N9CS  Normal Tissue  Female  GTEX       Normal  \n",
       "GTEX-1117F-0726-SM-5GIEN  Normal Tissue  Female  GTEX       Normal  "
      ]
     },
     "execution_count": 37,
     "metadata": {},
     "output_type": "execute_result"
    }
   ],
   "source": [
    "# Read in the clinical saved from https://toil.xenahubs.net/download/TcgaTargetGTEX_phenotype.txt\n",
    "Y = pd.read_table(\"/data/scratch/rcurrie/xena/TcgaTargetGTEX_phenotype.txt\",\n",
    "                  header=0, names=[\"detailed_category\", \"primary_site\", \"sample_type\", \"gender\", \"study\"],\n",
    "                  sep=\"\\t\", encoding=\"ISO-8859-1\", index_col=0, dtype=\"str\").sort_index(axis=0)\n",
    "\n",
    "# Add column for tumor/normal\n",
    "Y[\"tumor_normal\"] = Y.apply(\n",
    "    lambda row: \"Normal\" if row[\"sample_type\"] in [\"Cell Line\", \"Normal Tissue\", \"Solid Tissue Normal\"]\n",
    "    else \"Tumor\", axis=1)\n",
    "\n",
    "Y.head()"
   ]
  },
  {
   "cell_type": "code",
   "execution_count": 38,
   "metadata": {
    "collapsed": false,
    "deletable": true,
    "editable": true
   },
   "outputs": [
    {
     "data": {
      "text/html": [
       "<div>\n",
       "<table border=\"1\" class=\"dataframe\">\n",
       "  <thead>\n",
       "    <tr style=\"text-align: right;\">\n",
       "      <th></th>\n",
       "      <th>detailed_category</th>\n",
       "      <th>primary_site</th>\n",
       "      <th>sample_type</th>\n",
       "      <th>gender</th>\n",
       "      <th>study</th>\n",
       "      <th>tumor_normal</th>\n",
       "    </tr>\n",
       "  </thead>\n",
       "  <tbody>\n",
       "    <tr>\n",
       "      <th>count</th>\n",
       "      <td>19130</td>\n",
       "      <td>19126</td>\n",
       "      <td>19131</td>\n",
       "      <td>18972</td>\n",
       "      <td>19131</td>\n",
       "      <td>19131</td>\n",
       "    </tr>\n",
       "    <tr>\n",
       "      <th>unique</th>\n",
       "      <td>93</td>\n",
       "      <td>46</td>\n",
       "      <td>17</td>\n",
       "      <td>2</td>\n",
       "      <td>3</td>\n",
       "      <td>2</td>\n",
       "    </tr>\n",
       "    <tr>\n",
       "      <th>top</th>\n",
       "      <td>Breast Invasive Carcinoma</td>\n",
       "      <td>Brain</td>\n",
       "      <td>Primary Tumor</td>\n",
       "      <td>Male</td>\n",
       "      <td>TCGA</td>\n",
       "      <td>Tumor</td>\n",
       "    </tr>\n",
       "    <tr>\n",
       "      <th>freq</th>\n",
       "      <td>1212</td>\n",
       "      <td>1846</td>\n",
       "      <td>9185</td>\n",
       "      <td>10456</td>\n",
       "      <td>10535</td>\n",
       "      <td>10531</td>\n",
       "    </tr>\n",
       "  </tbody>\n",
       "</table>\n",
       "</div>"
      ],
      "text/plain": [
       "                detailed_category primary_site    sample_type gender  study  \\\n",
       "count                       19130        19126          19131  18972  19131   \n",
       "unique                         93           46             17      2      3   \n",
       "top     Breast Invasive Carcinoma        Brain  Primary Tumor   Male   TCGA   \n",
       "freq                         1212         1846           9185  10456  10535   \n",
       "\n",
       "       tumor_normal  \n",
       "count         19131  \n",
       "unique            2  \n",
       "top           Tumor  \n",
       "freq          10531  "
      ]
     },
     "execution_count": 38,
     "metadata": {},
     "output_type": "execute_result"
    }
   ],
   "source": [
    "Y.describe()"
   ]
  },
  {
   "cell_type": "code",
   "execution_count": 39,
   "metadata": {
    "collapsed": false,
    "deletable": true,
    "editable": true
   },
   "outputs": [],
   "source": [
    "# Label to use for stratified folds to make sure we have equal representation in\n",
    "# our training and validation sets\n",
    "label_for_classes = \"primary_site\"\n",
    "label_to_predict = \"tumor_normal\"\n",
    "output_file = \"/data/scratch/rcurrie/tumor_normal.h5\""
   ]
  },
  {
   "cell_type": "code",
   "execution_count": 40,
   "metadata": {
    "collapsed": false,
    "deletable": true,
    "editable": true
   },
   "outputs": [
    {
     "name": "stdout",
     "output_type": "stream",
     "text": [
      "19126 samples with non-null labels\n"
     ]
    }
   ],
   "source": [
    "# Remove rows where the label is null or the sample is missing\n",
    "Y_not_null = Y[pd.notnull(Y[label_for_classes])]\n",
    "intersection = X.index.intersection(Y_not_null.index)\n",
    "X_clean = X[X.index.isin(intersection)]\n",
    "Y_clean = Y[Y.index.isin(intersection)]\n",
    "print(intersection.shape[0], \"samples with non-null labels\")"
   ]
  },
  {
   "cell_type": "code",
   "execution_count": 41,
   "metadata": {
    "collapsed": false,
    "deletable": true,
    "editable": true
   },
   "outputs": [],
   "source": [
    "# Make sure the label and example samples are in the same order\n",
    "assert(X_clean.index.equals(Y_clean.index))"
   ]
  },
  {
   "cell_type": "code",
   "execution_count": 42,
   "metadata": {
    "collapsed": false,
    "deletable": true,
    "editable": true
   },
   "outputs": [
    {
     "name": "stdout",
     "output_type": "stream",
     "text": [
      "Total classes for stratification: 46\n"
     ]
    }
   ],
   "source": [
    "# Convert classes into numbers\n",
    "from sklearn.preprocessing import LabelEncoder\n",
    "encoder = LabelEncoder()\n",
    "encoder.fit(Y_not_null[label_for_classes].values)\n",
    "classes = list(encoder.classes_)\n",
    "classes = encoder.transform(Y_clean[label_for_classes])\n",
    "print(\"Total classes for stratification:\", len(set(classes)))"
   ]
  },
  {
   "cell_type": "code",
   "execution_count": 43,
   "metadata": {
    "collapsed": false,
    "deletable": true,
    "editable": true
   },
   "outputs": [
    {
     "data": {
      "text/plain": [
       "array([[0, 1],\n",
       "       [0, 1],\n",
       "       [0, 1],\n",
       "       ..., \n",
       "       [1, 0],\n",
       "       [0, 1],\n",
       "       [1, 0]])"
      ]
     },
     "execution_count": 43,
     "metadata": {},
     "output_type": "execute_result"
    }
   ],
   "source": [
    "# Convert prediction target into one-hot\n",
    "# http://stackoverflow.com/questions/31947140/sklearn-labelbinarizer-returns-vector-when-there-are-2-classes\n",
    "# so we get [0,1] and [1,0] instead of [0] and [1]\n",
    "from sklearn.preprocessing import LabelBinarizer\n",
    "import numpy as np\n",
    "\n",
    "class OneHotLabelBinarizer(LabelBinarizer):\n",
    "    def transform(self, y):\n",
    "        Y = super().transform(y)\n",
    "        if self.y_type_ == 'binary':\n",
    "            return np.hstack((Y, 1-Y))\n",
    "        else:\n",
    "            return Y\n",
    "\n",
    "    def inverse_transform(self, Y, threshold=None):\n",
    "        if self.y_type_ == 'binary':\n",
    "            return super().inverse_transform(Y[:, 0], threshold)\n",
    "        else:\n",
    "            return super().inverse_transform(Y, threshold)\n",
    "\n",
    "encoder = OneHotLabelBinarizer()\n",
    "y_one_hot = encoder.fit_transform(Y_clean[label_to_predict])\n",
    "labels = encoder.classes_\n",
    "y_one_hot"
   ]
  },
  {
   "cell_type": "code",
   "execution_count": 45,
   "metadata": {
    "collapsed": false,
    "deletable": true,
    "editable": true
   },
   "outputs": [],
   "source": [
    "\"\"\"\n",
    "Write to an h5 file for training\n",
    "X: examples as a numpy floating point array\n",
    "y: one hot array to predict\n",
    "classes: integer array of classes for stratification\n",
    "features: string array of the features in X\n",
    "labels: array of strings coresponding to the one-hot labels\n",
    "\"\"\"\n",
    "with h5py.File(output_file, \"w\") as f:\n",
    "    f.create_dataset('X', X_clean.shape, dtype='f')[:] = X_clean.values\n",
    "    f.create_dataset('y', y_one_hot.shape, dtype='i')[:] = y_one_hot\n",
    "\n",
    "    f.create_dataset('classes', classes.shape, dtype='i')[:] = classes\n",
    "    f.create_dataset('features', X_clean.columns.shape, 'S10', \n",
    "                     [l.encode(\"ascii\", \"ignore\") for l in X_clean.columns.values])\n",
    "    f.create_dataset('labels', (len(labels), 1), 'S10', \n",
    "                     [l.encode(\"ascii\", \"ignore\") for l in labels])"
   ]
  }
 ],
 "metadata": {
  "kernelspec": {
   "display_name": "Python 3",
   "language": "python",
   "name": "python3"
  },
  "language_info": {
   "codemirror_mode": {
    "name": "ipython",
    "version": 3
   },
   "file_extension": ".py",
   "mimetype": "text/x-python",
   "name": "python",
   "nbconvert_exporter": "python",
   "pygments_lexer": "ipython3",
   "version": "3.5.2"
  }
 },
 "nbformat": 4,
 "nbformat_minor": 2
}
