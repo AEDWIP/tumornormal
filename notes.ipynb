{
 "cells": [
  {
   "cell_type": "markdown",
   "metadata": {},
   "source": [
    "# Notes and Todo"
   ]
  },
  {
   "cell_type": "markdown",
   "metadata": {},
   "source": [
    "- Rob's repo [https://github.com/rcurrie/tumornormal](https://github.com/rcurrie/tumornormal)\n",
    "- import functions for other notebooks [https://github.com/ipython/ipynb](https://github.com/ipython/ipynb)\n",
    "- formating eq. in html [https://www.mathjax.org/](https://www.mathjax.org/)\n",
    "- machine learning with tensorflow [https://github.com/ageron/handson-ml](https://github.com/ageron/handson-ml)\n",
    "- multi task auto encoding [https://docs.google.com/presentation/d/1Tns5HTRqbfXHQWBoKziUuhtnbU8VYKSQWoGOloHqZdw/edit#slide=id.g327a3ce04b_0_10](https://docs.google.com/presentation/d/1Tns5HTRqbfXHQWBoKziUuhtnbU8VYKSQWoGOloHqZdw/edit#slide=id.g327a3ce04b_0_10)\n",
    "- [clean code](https://www.slideshare.net/vladimirkazantsev/clean-code-in-jupyter-notebook)\n",
    "- [jupyter notebook unit testing](https://pypi.python.org/pypi/pytest-ipynb)\n",
    "-[dandelion.manetensor board tutorial](https://github.com/dandelionmane/tf-dev-summit-tensorboard-tutorial"
   ]
  },
  {
   "cell_type": "markdown",
   "metadata": {},
   "source": [
    "### TensorBoard\n",
    "* [README.md](https://github.com/tensorflow/tensorboard/blob/master/README.md)\n",
    "* [gettign started](https://www.tensorflow.org/get_started/summaries_and_tensorboard)"
   ]
  },
  {
   "cell_type": "markdown",
   "metadata": {},
   "source": [
    "1. try logistic regression\n",
    "   * get rid of wImpl can we replace with variable and tf.assign\n",
    "   * I think there is a way to get results with out having to call eval a second time. should run faster\n",
    "    * confusion matrix\n",
    "    * use error rate for stat\n",
    "    * high basis? or high variance?\n",
    "\n",
    "2. would regularization help?\n",
    "3. try fully connected\n",
    "    1. does adding layers help?\n",
    "4. spell check\n",
    "5. read tensorflow style convestoin"
   ]
  },
  {
   "cell_type": "markdown",
   "metadata": {},
   "source": [
    "1. first\n",
    "2. second\n",
    "    * tab\n",
    "    * tab\n",
    "3. three\n",
    "    2. tab b"
   ]
  },
  {
   "cell_type": "markdown",
   "metadata": {},
   "source": [
    "## MathJax Notes\n",
    "display TeX Notice the eq. stands a lone $$ \\widehat { y } = \\sigma (z) $$\n",
    "\n",
    "inilne TeX $ \\widehat { y } = \\sigma ( z ) $ end of line \n",
    "\n",
    "controlling spacing: \n",
    "Daum Equation uses \\quad this creates to much space.\n",
    "see [https://www.andy-roberts.net/res/writing/latex/hspacing.pdf](https://www.andy-roberts.net/res/writing/latex/hspacing.pdf)\n",
    "\n",
    "### Command Description Size\n",
    "* \\, small space 3/18 of a quad\n",
    "* \\: medium space 4/18 of a quad\n",
    "* \\; large space 5/18 of a quad\n",
    "* \\\\! negative space −3/18 of a quad"
   ]
  },
  {
   "cell_type": "markdown",
   "metadata": {},
   "source": [
    "## Using comprenhesion to print values, \n",
    "* advantage: shows all digits\n",
    "* disadvtage: hides true shape\n",
    "```\n",
    "rows,cols = gradWResult.shape\n",
    "print([gradWResult[i][j] for i in range(rows) for j in range(cols)])\n",
    "```\n",
    "[1.2829966017218182, 1.7089497704501153]\n",
    "\n",
    "cleaner way migt be to use [https://www.tutorialspoint.com/numpy/numpy_iterating_over_array.htm](https://www.tutorialspoint.com/numpy/numpy_iterating_over_array.htm)\n"
   ]
  }
 ],
 "metadata": {
  "kernelspec": {
   "display_name": "Python 3",
   "language": "python",
   "name": "python3"
  },
  "language_info": {
   "codemirror_mode": {
    "name": "ipython",
    "version": 3
   },
   "file_extension": ".py",
   "mimetype": "text/x-python",
   "name": "python",
   "nbconvert_exporter": "python",
   "pygments_lexer": "ipython3",
   "version": "3.6.1"
  }
 },
 "nbformat": 4,
 "nbformat_minor": 2
}
