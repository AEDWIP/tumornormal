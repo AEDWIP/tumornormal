{
 "cells": [
  {
   "cell_type": "markdown",
   "metadata": {},
   "source": [
    "# Feature Importance\n",
    "\n",
    "Determine which features contribute the most to the output and see how well this coorelates with the COSMIC cancer gene census:\n",
    "\n",
    "http://cancer.sanger.ac.uk/census/\n",
    "\n",
    "Resources\n",
    "\n",
    "https://en.wikipedia.org/wiki/Feature_selection#Wrapper_method\n",
    "\n",
    "https://stats.stackexchange.com/questions/250381/feature-selection-using-deep-learning\n",
    "\n",
    "http://blog.datadive.net/selecting-good-features-part-i-univariate-selection/\n",
    "\n",
    "https://arxiv.org/abs/1704.02685\n"
   ]
  },
  {
   "cell_type": "code",
   "execution_count": 1,
   "metadata": {
    "collapsed": true
   },
   "outputs": [],
   "source": [
    "import numpy as np\n",
    "import pandas as pd"
   ]
  },
  {
   "cell_type": "code",
   "execution_count": 2,
   "metadata": {},
   "outputs": [
    {
     "name": "stderr",
     "output_type": "stream",
     "text": [
      "Using TensorFlow backend.\n"
     ]
    },
    {
     "name": "stdout",
     "output_type": "stream",
     "text": [
      "Loading model...\n",
      "Loading weights...\n",
      "Compliling model...\n"
     ]
    }
   ],
   "source": [
    "# Load the model from disk as trained on the GPU box\n",
    "from keras.models import model_from_json\n",
    "\n",
    "print(\"Loading model...\")\n",
    "with open(\"models/model.json\", \"r\") as f:\n",
    "    model = model_from_json(f.read())\n",
    "print(\"Loading weights...\")\n",
    "model.load_weights(\"models/weights.h5\")\n",
    "print(\"Compliling model...\")\n",
    "model.compile(loss='binary_crossentropy', optimizer='adam', metrics=['accuracy'])"
   ]
  },
  {
   "cell_type": "code",
   "execution_count": 3,
   "metadata": {},
   "outputs": [
    {
     "name": "stdout",
     "output_type": "stream",
     "text": [
      "3826/3826 [==============================] - 17s    \n",
      "['loss', 'acc'] [0.706727260781157, 0.79952953479331135]\n"
     ]
    }
   ],
   "source": [
    "# Check the accuracy using the test set\n",
    "from keras.utils.io_utils import HDF5Matrix\n",
    "import h5py\n",
    "\n",
    "input_file = \"data/tumor_normal.h5\"\n",
    "X_test = HDF5Matrix(input_file, \"X_test\")\n",
    "y_test = HDF5Matrix(input_file, \"y_test\")\n",
    "\n",
    "print(model.metrics_names, model.evaluate(X_test, y_test))"
   ]
  },
  {
   "cell_type": "code",
   "execution_count": 4,
   "metadata": {
    "collapsed": true
   },
   "outputs": [],
   "source": [
    "# Load the features into a dataframe\n",
    "import h5py\n",
    "with h5py.File(\"data/tumor_normal.h5\", \"r\") as f:\n",
    "    genes = f[\"genes\"][:]"
   ]
  },
  {
   "cell_type": "code",
   "execution_count": 5,
   "metadata": {},
   "outputs": [
    {
     "data": {
      "text/html": [
       "<div>\n",
       "<style>\n",
       "    .dataframe thead tr:only-child th {\n",
       "        text-align: right;\n",
       "    }\n",
       "\n",
       "    .dataframe thead th {\n",
       "        text-align: left;\n",
       "    }\n",
       "\n",
       "    .dataframe tbody tr th {\n",
       "        vertical-align: top;\n",
       "    }\n",
       "</style>\n",
       "<table border=\"1\" class=\"dataframe\">\n",
       "  <thead>\n",
       "    <tr style=\"text-align: right;\">\n",
       "      <th></th>\n",
       "      <th>0</th>\n",
       "    </tr>\n",
       "  </thead>\n",
       "  <tbody>\n",
       "    <tr>\n",
       "      <th>RP11-78A18</th>\n",
       "      <td>13.062720</td>\n",
       "    </tr>\n",
       "    <tr>\n",
       "      <th>CTC-305H11</th>\n",
       "      <td>11.556487</td>\n",
       "    </tr>\n",
       "    <tr>\n",
       "      <th>RP11-297L1</th>\n",
       "      <td>11.231505</td>\n",
       "    </tr>\n",
       "    <tr>\n",
       "      <th>LINC00363</th>\n",
       "      <td>10.938180</td>\n",
       "    </tr>\n",
       "    <tr>\n",
       "      <th>RP11-257I8</th>\n",
       "      <td>10.923991</td>\n",
       "    </tr>\n",
       "  </tbody>\n",
       "</table>\n",
       "</div>"
      ],
      "text/plain": [
       "                    0\n",
       "RP11-78A18  13.062720\n",
       "CTC-305H11  11.556487\n",
       "RP11-297L1  11.231505\n",
       "LINC00363   10.938180\n",
       "RP11-257I8  10.923991"
      ]
     },
     "execution_count": 5,
     "metadata": {},
     "output_type": "execute_result"
    }
   ],
   "source": [
    "\"\"\"\n",
    "First do the simplest thing - sum the weights at the first layer by gene, sort,\n",
    "and see if those with the highest weights intersect with the COSMIC list\n",
    "\n",
    "Maybe it should be the sum of the absolute value? Negative or positive weight implies affect...\n",
    "\"\"\"\n",
    "weights = model.layers[2].get_weights()\n",
    "ranks = np.absolute(np.sum(weights[0], axis=1))\n",
    "rankings = pd.DataFrame(ranks, index=genes.astype('U')).sort_values(by=0, ascending=False)\n",
    "rankings.head()"
   ]
  },
  {
   "cell_type": "code",
   "execution_count": 6,
   "metadata": {},
   "outputs": [
    {
     "data": {
      "text/plain": [
       "array(['RP11-78A18', 'CTC-305H11', 'RP11-297L1', ..., 'MIR6888',\n",
       "       'RP11-307C1', 'MIR4745'], dtype=object)"
      ]
     },
     "execution_count": 6,
     "metadata": {},
     "output_type": "execute_result"
    }
   ],
   "source": [
    "rankings.index.values"
   ]
  },
  {
   "cell_type": "code",
   "execution_count": 7,
   "metadata": {},
   "outputs": [
    {
     "data": {
      "text/plain": [
       "(69,)"
      ]
     },
     "execution_count": 7,
     "metadata": {},
     "output_type": "execute_result"
    }
   ],
   "source": [
    "# How many of the top 10k weighted features overlap with cosmic?\n",
    "cosmic = pd.read_table(\"cancer_genes.tsv\")[\"Gene Symbol\"].values\n",
    "np.intersect1d(rankings.index.values[0:10000], cosmic).shape"
   ]
  },
  {
   "cell_type": "code",
   "execution_count": null,
   "metadata": {
    "collapsed": true
   },
   "outputs": [],
   "source": []
  }
 ],
 "metadata": {
  "kernelspec": {
   "display_name": "Python 3",
   "language": "python",
   "name": "python3"
  },
  "language_info": {
   "codemirror_mode": {
    "name": "ipython",
    "version": 3
   },
   "file_extension": ".py",
   "mimetype": "text/x-python",
   "name": "python",
   "nbconvert_exporter": "python",
   "pygments_lexer": "ipython3",
   "version": "3.5.2"
  }
 },
 "nbformat": 4,
 "nbformat_minor": 2
}
