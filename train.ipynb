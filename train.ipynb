{
 "cells": [
  {
   "cell_type": "markdown",
   "metadata": {},
   "source": [
    "# Deriving cancer gene's from expression data\n",
    "\n",
    "See if it's possible to train a deep neural network tumor/normal binary classifier using just the Toil TCGA, TARGET and GTEX expression datasets:\n",
    "\n",
    "https://xenabrowser.net/datapages/?host=https://toil.xenahubs.net)\n",
    "\n",
    "If we can, then see whether any of the early layers re-capitulates the COSMIC cancer gene census:\n",
    "\n",
    "http://cancer.sanger.ac.uk/census/"
   ]
  },
  {
   "cell_type": "code",
   "execution_count": 7,
   "metadata": {
    "collapsed": true
   },
   "outputs": [],
   "source": [
    "import os\n",
    "import numpy as np\n",
    "import pandas as pd\n",
    "\n",
    "# fix random seed for reproducibility\n",
    "np.random.seed(42)"
   ]
  },
  {
   "cell_type": "code",
   "execution_count": 27,
   "metadata": {},
   "outputs": [],
   "source": [
    "# Before we import keras or tensorflow pick a GPU with zero utilitization and memory usage\n",
    "import os\n",
    "import re\n",
    "import subprocess\n",
    "\n",
    "if \"CUDA_HOME\" in os.environ:\n",
    "    utilization = re.findall(r\"Utilization.*?Gpu.*?(\\d+).*?Memory.*?(\\d+)\",\n",
    "                             subprocess.check_output([\"nvidia-smi\", \"-q\"]), flags=re.MULTILINE | re.DOTALL)\n",
    "    print(\"GPU Utilization\", utilization)\n",
    "\n",
    "    if ('0', '0') in utilization:\n",
    "        print(\"Using GPU Device:\", utilization.index(('0', '0')))\n",
    "        os.environ[\"CUDA_VISIBLE_DEVICES\"] = str(utilization.index(('0', '0')))\n",
    "        os.environ[\"CUDA_DEVICE_ORDER\"]  = \"PCI_BUS_ID\"  # To ensure the index matches\n",
    "    else:\n",
    "        print(\"All GPUs in Use\")\n",
    "        exit"
   ]
  },
  {
   "cell_type": "code",
   "execution_count": 15,
   "metadata": {},
   "outputs": [
    {
     "name": "stdout",
     "output_type": "stream",
     "text": [
      "Datasets: ['X_test', 'X_train', 'class_labels', 'classes_test', 'classes_train', 'features', 'genes', 'labels', 'y_test', 'y_train']\n",
      "Training on partial dataset\n",
      "X_train.shape: (1000, 60498) epochs: 1 batch_size: 128\n"
     ]
    }
   ],
   "source": [
    "from keras.utils.io_utils import HDF5Matrix\n",
    "import h5py\n",
    "\n",
    "input_file = \"data/tumor_normal.h5\"\n",
    "\n",
    "with h5py.File(input_file, \"r\") as f:\n",
    "    print(\"Datasets:\", list(f.keys()))\n",
    "\n",
    "# different size parameters if debugging or using full dataset\n",
    "if os.getenv(\"DEBUG\", \"True\") == \"True\":\n",
    "    X_train = HDF5Matrix(input_file, \"X_train\", start=0, end=1000)\n",
    "    X_test = HDF5Matrix(input_file, \"X_test\", start=0, end=200)\n",
    "    y_train = HDF5Matrix(input_file, \"y_train\", start=0, end=1000)\n",
    "    y_test = HDF5Matrix(input_file, \"y_test\", start=0, end=200)\n",
    "    print(\"Training on partial dataset\")\n",
    "    epochs=1\n",
    "    batch_size=128\n",
    "else:\n",
    "    X_train = HDF5Matrix(input_file, \"X_train\")\n",
    "    X_test = HDF5Matrix(input_file, \"X_test\")\n",
    "    y_train = HDF5Matrix(input_file, \"y_train\")\n",
    "    y_test = HDF5Matrix(input_file, \"y_test\")\n",
    "    print(\"Training on full dataset\")\n",
    "    epochs=16\n",
    "    batch_size=512\n",
    "    \n",
    "print(\"X_train.shape:\", X_train.shape, \"epochs:\", epochs, \"batch_size:\", batch_size)"
   ]
  },
  {
   "cell_type": "code",
   "execution_count": 10,
   "metadata": {},
   "outputs": [
    {
     "name": "stdout",
     "output_type": "stream",
     "text": [
      "Epoch 1/1\n",
      "5000/5000 [==============================] - 5s - loss: 6.9038 - acc: 0.5500     \n"
     ]
    },
    {
     "data": {
      "text/plain": [
       "<keras.callbacks.History at 0x7f8e2c153278>"
      ]
     },
     "execution_count": 10,
     "metadata": {},
     "output_type": "execute_result"
    }
   ],
   "source": [
    "# \"\"\"\n",
    "# Basic PCA into Dense\n",
    "\n",
    "# Epoch 16/16\n",
    "# 15300/15300 [==============================] - 23s - loss: 0.6338 - acc: 0.9603\n",
    "# \"\"\"\n",
    "# from sklearn.decomposition import PCA\n",
    "# from keras.layers import Dense\n",
    "# from keras.models import Model, Sequential\n",
    "\n",
    "# # PCA to reduce dimenions before network\n",
    "# print(\"Computing PCA\")\n",
    "# X_train_pca = PCA(n_components=5000).fit_transform(X_train)\n",
    "\n",
    "# classify = [\n",
    "#     Dense(1000, input_dim=X_train_pca.shape[1], activation='relu'),\n",
    "#     Dense(500, activation='relu'),\n",
    "#     Dense(1, activation='sigmoid')\n",
    "# ]\n",
    "\n",
    "# model = Sequential(classify)\n",
    "# model.compile(loss='binary_crossentropy', optimizer='adam', metrics=['accuracy'])\n",
    "# model.fit(X_train_pca, y_train, epochs=epochs, batch_size=batch_size, shuffle=\"batch\")\n",
    "# # model.evaluate(X_test, y_test)"
   ]
  },
  {
   "cell_type": "code",
   "execution_count": 19,
   "metadata": {},
   "outputs": [
    {
     "name": "stdout",
     "output_type": "stream",
     "text": [
      "Epoch 1/1\n",
      "1000/1000 [==============================] - 26s - loss: 21016.0516 - acc: 0.5470    \n",
      "200/200 [==============================] - 1s     \n"
     ]
    },
    {
     "data": {
      "text/plain": [
       "[14205.6428125, 0.5]"
      ]
     },
     "execution_count": 19,
     "metadata": {},
     "output_type": "execute_result"
    }
   ],
   "source": [
    "\"\"\"\n",
    "Try replacing PCA with a sparse autoencoder\n",
    "\"\"\"\n",
    "from keras import regularizers\n",
    "from keras.layers import Dense\n",
    "from keras.models import Model, Sequential\n",
    "\n",
    "classify = [\n",
    "    Dense(2000, input_dim=X_train.shape[1], activation='relu', \n",
    "          kernel_regularizer=regularizers.l1(0.05),\n",
    "          activity_regularizer=regularizers.l1(0.1)),\n",
    "    Dense(1000, activation='relu'),\n",
    "    Dense(500, activation='relu'),\n",
    "    Dense(1, activation='sigmoid')\n",
    "]\n",
    "\n",
    "model = Sequential(classify)\n",
    "model.compile(loss='binary_crossentropy', optimizer='adam', metrics=['accuracy'])\n",
    "model.fit(X_train, y_train, epochs=epochs, batch_size=batch_size, shuffle=\"batch\")\n",
    "model.evaluate(X_test, y_test)"
   ]
  }
 ],
 "metadata": {
  "kernelspec": {
   "display_name": "Python 3",
   "language": "python",
   "name": "python3"
  },
  "language_info": {
   "codemirror_mode": {
    "name": "ipython",
    "version": 3
   },
   "file_extension": ".py",
   "mimetype": "text/x-python",
   "name": "python",
   "nbconvert_exporter": "python",
   "pygments_lexer": "ipython3",
   "version": "3.5.2"
  }
 },
 "nbformat": 4,
 "nbformat_minor": 2
}
